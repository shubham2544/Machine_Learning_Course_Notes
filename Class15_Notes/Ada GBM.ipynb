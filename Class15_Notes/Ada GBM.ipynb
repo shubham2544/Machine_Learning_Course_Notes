{
 "cells": [
  {
   "cell_type": "code",
   "execution_count": 1,
   "metadata": {},
   "outputs": [
    {
     "data": {
      "text/plain": [
       "<Figure size 720x540 with 0 Axes>"
      ]
     },
     "metadata": {},
     "output_type": "display_data"
    }
   ],
   "source": [
    "import pandas as pd\n",
    "import numpy as np\n",
    "import seaborn as sns\n",
    "import matplotlib.pyplot as plt\n",
    "%matplotlib inline\n",
    "plt.rcParams['figure.figsize'] = 10, 7.5\n",
    "plt.rcParams['axes.grid'] = True\n",
    "plt.gray()\n",
    "from sklearn.model_selection import train_test_split"
   ]
  },
  {
   "cell_type": "code",
   "execution_count": 2,
   "metadata": {},
   "outputs": [],
   "source": [
    "data = pd.read_csv(\"salary.csv\")"
   ]
  },
  {
   "cell_type": "code",
   "execution_count": 3,
   "metadata": {},
   "outputs": [
    {
     "data": {
      "text/plain": [
       "(8850, 15)"
      ]
     },
     "execution_count": 3,
     "metadata": {},
     "output_type": "execute_result"
    }
   ],
   "source": [
    "data.shape"
   ]
  },
  {
   "cell_type": "code",
   "execution_count": 4,
   "metadata": {},
   "outputs": [
    {
     "data": {
      "text/html": [
       "<div>\n",
       "<style scoped>\n",
       "    .dataframe tbody tr th:only-of-type {\n",
       "        vertical-align: middle;\n",
       "    }\n",
       "\n",
       "    .dataframe tbody tr th {\n",
       "        vertical-align: top;\n",
       "    }\n",
       "\n",
       "    .dataframe thead th {\n",
       "        text-align: right;\n",
       "    }\n",
       "</style>\n",
       "<table border=\"1\" class=\"dataframe\">\n",
       "  <thead>\n",
       "    <tr style=\"text-align: right;\">\n",
       "      <th></th>\n",
       "      <th>age</th>\n",
       "      <th>workclass</th>\n",
       "      <th>fnlwgt</th>\n",
       "      <th>education</th>\n",
       "      <th>educational-num</th>\n",
       "      <th>marital-status</th>\n",
       "      <th>occupation</th>\n",
       "      <th>relationship</th>\n",
       "      <th>race</th>\n",
       "      <th>gender</th>\n",
       "      <th>capital-gain</th>\n",
       "      <th>capital-loss</th>\n",
       "      <th>hours-per-week</th>\n",
       "      <th>native-country</th>\n",
       "      <th>income</th>\n",
       "    </tr>\n",
       "  </thead>\n",
       "  <tbody>\n",
       "    <tr>\n",
       "      <th>2486</th>\n",
       "      <td>19</td>\n",
       "      <td>Private</td>\n",
       "      <td>44047</td>\n",
       "      <td>HS-grad</td>\n",
       "      <td>9</td>\n",
       "      <td>Never-married</td>\n",
       "      <td>Machine-op-inspct</td>\n",
       "      <td>Not-in-family</td>\n",
       "      <td>White</td>\n",
       "      <td>Male</td>\n",
       "      <td>0</td>\n",
       "      <td>0</td>\n",
       "      <td>40</td>\n",
       "      <td>United-States</td>\n",
       "      <td>&lt;=50K</td>\n",
       "    </tr>\n",
       "    <tr>\n",
       "      <th>1079</th>\n",
       "      <td>81</td>\n",
       "      <td>Private</td>\n",
       "      <td>184615</td>\n",
       "      <td>7th-8th</td>\n",
       "      <td>4</td>\n",
       "      <td>Widowed</td>\n",
       "      <td>Machine-op-inspct</td>\n",
       "      <td>Unmarried</td>\n",
       "      <td>White</td>\n",
       "      <td>Female</td>\n",
       "      <td>1264</td>\n",
       "      <td>0</td>\n",
       "      <td>40</td>\n",
       "      <td>United-States</td>\n",
       "      <td>&lt;=50K</td>\n",
       "    </tr>\n",
       "    <tr>\n",
       "      <th>5899</th>\n",
       "      <td>29</td>\n",
       "      <td>Private</td>\n",
       "      <td>251526</td>\n",
       "      <td>Some-college</td>\n",
       "      <td>10</td>\n",
       "      <td>Married-civ-spouse</td>\n",
       "      <td>Tech-support</td>\n",
       "      <td>Wife</td>\n",
       "      <td>White</td>\n",
       "      <td>Female</td>\n",
       "      <td>0</td>\n",
       "      <td>0</td>\n",
       "      <td>20</td>\n",
       "      <td>United-States</td>\n",
       "      <td>&lt;=50K</td>\n",
       "    </tr>\n",
       "    <tr>\n",
       "      <th>6133</th>\n",
       "      <td>39</td>\n",
       "      <td>Private</td>\n",
       "      <td>128483</td>\n",
       "      <td>Some-college</td>\n",
       "      <td>10</td>\n",
       "      <td>Married-civ-spouse</td>\n",
       "      <td>Other-service</td>\n",
       "      <td>Wife</td>\n",
       "      <td>White</td>\n",
       "      <td>Female</td>\n",
       "      <td>0</td>\n",
       "      <td>0</td>\n",
       "      <td>60</td>\n",
       "      <td>United-States</td>\n",
       "      <td>&lt;=50K</td>\n",
       "    </tr>\n",
       "    <tr>\n",
       "      <th>5137</th>\n",
       "      <td>52</td>\n",
       "      <td>Private</td>\n",
       "      <td>163776</td>\n",
       "      <td>HS-grad</td>\n",
       "      <td>9</td>\n",
       "      <td>Married-civ-spouse</td>\n",
       "      <td>Sales</td>\n",
       "      <td>Husband</td>\n",
       "      <td>White</td>\n",
       "      <td>Male</td>\n",
       "      <td>0</td>\n",
       "      <td>1902</td>\n",
       "      <td>60</td>\n",
       "      <td>United-States</td>\n",
       "      <td>&gt;50K</td>\n",
       "    </tr>\n",
       "  </tbody>\n",
       "</table>\n",
       "</div>"
      ],
      "text/plain": [
       "      age workclass  fnlwgt     education  educational-num  \\\n",
       "2486   19   Private   44047       HS-grad                9   \n",
       "1079   81   Private  184615       7th-8th                4   \n",
       "5899   29   Private  251526  Some-college               10   \n",
       "6133   39   Private  128483  Some-college               10   \n",
       "5137   52   Private  163776       HS-grad                9   \n",
       "\n",
       "          marital-status         occupation   relationship   race  gender  \\\n",
       "2486       Never-married  Machine-op-inspct  Not-in-family  White    Male   \n",
       "1079             Widowed  Machine-op-inspct      Unmarried  White  Female   \n",
       "5899  Married-civ-spouse       Tech-support           Wife  White  Female   \n",
       "6133  Married-civ-spouse      Other-service           Wife  White  Female   \n",
       "5137  Married-civ-spouse              Sales        Husband  White    Male   \n",
       "\n",
       "      capital-gain  capital-loss  hours-per-week native-country income  \n",
       "2486             0             0              40  United-States  <=50K  \n",
       "1079          1264             0              40  United-States  <=50K  \n",
       "5899             0             0              20  United-States  <=50K  \n",
       "6133             0             0              60  United-States  <=50K  \n",
       "5137             0          1902              60  United-States   >50K  "
      ]
     },
     "execution_count": 4,
     "metadata": {},
     "output_type": "execute_result"
    }
   ],
   "source": [
    "data.sample(5)"
   ]
  },
  {
   "cell_type": "code",
   "execution_count": 5,
   "metadata": {},
   "outputs": [],
   "source": [
    "data['income'] = data['income'].replace({'<=50K':0,'>50K':1})"
   ]
  },
  {
   "cell_type": "code",
   "execution_count": 6,
   "metadata": {},
   "outputs": [
    {
     "data": {
      "text/plain": [
       "3"
      ]
     },
     "execution_count": 6,
     "metadata": {},
     "output_type": "execute_result"
    }
   ],
   "source": [
    "data.isnull().any().sum()"
   ]
  },
  {
   "cell_type": "code",
   "execution_count": 7,
   "metadata": {},
   "outputs": [
    {
     "data": {
      "text/plain": [
       "age                 int64\n",
       "workclass          object\n",
       "fnlwgt              int64\n",
       "education          object\n",
       "educational-num     int64\n",
       "marital-status     object\n",
       "occupation         object\n",
       "relationship       object\n",
       "race               object\n",
       "gender             object\n",
       "capital-gain        int64\n",
       "capital-loss        int64\n",
       "hours-per-week      int64\n",
       "native-country     object\n",
       "income              int64\n",
       "dtype: object"
      ]
     },
     "execution_count": 7,
     "metadata": {},
     "output_type": "execute_result"
    }
   ],
   "source": [
    "data.dtypes"
   ]
  },
  {
   "cell_type": "code",
   "execution_count": 8,
   "metadata": {},
   "outputs": [
    {
     "name": "stdout",
     "output_type": "stream",
     "text": [
      "['age', 'fnlwgt', 'educational-num', 'capital-gain', 'capital-loss', 'hours-per-week', 'income']\n",
      "['workclass', 'education', 'marital-status', 'occupation', 'relationship', 'race', 'gender', 'native-country']\n"
     ]
    }
   ],
   "source": [
    "# Encoding Categorical Features\n",
    "numeric_var_names=[key for key in dict(data.dtypes) if dict(data.dtypes)[key] in ['float64', 'int64', 'float32', 'int32']]\n",
    "cat_var_names=[key for key in dict(data.dtypes) if dict(data.dtypes)[key] in ['object']]\n",
    "print (numeric_var_names)\n",
    "print (cat_var_names)"
   ]
  },
  {
   "cell_type": "code",
   "execution_count": 9,
   "metadata": {},
   "outputs": [
    {
     "data": {
      "text/html": [
       "<div>\n",
       "<style scoped>\n",
       "    .dataframe tbody tr th:only-of-type {\n",
       "        vertical-align: middle;\n",
       "    }\n",
       "\n",
       "    .dataframe tbody tr th {\n",
       "        vertical-align: top;\n",
       "    }\n",
       "\n",
       "    .dataframe thead th {\n",
       "        text-align: right;\n",
       "    }\n",
       "</style>\n",
       "<table border=\"1\" class=\"dataframe\">\n",
       "  <thead>\n",
       "    <tr style=\"text-align: right;\">\n",
       "      <th></th>\n",
       "      <th>age</th>\n",
       "      <th>fnlwgt</th>\n",
       "      <th>educational-num</th>\n",
       "      <th>capital-gain</th>\n",
       "      <th>capital-loss</th>\n",
       "      <th>hours-per-week</th>\n",
       "      <th>income</th>\n",
       "    </tr>\n",
       "  </thead>\n",
       "  <tbody>\n",
       "    <tr>\n",
       "      <th>0</th>\n",
       "      <td>25</td>\n",
       "      <td>226802</td>\n",
       "      <td>7</td>\n",
       "      <td>0</td>\n",
       "      <td>0</td>\n",
       "      <td>40</td>\n",
       "      <td>0</td>\n",
       "    </tr>\n",
       "    <tr>\n",
       "      <th>1</th>\n",
       "      <td>38</td>\n",
       "      <td>89814</td>\n",
       "      <td>9</td>\n",
       "      <td>0</td>\n",
       "      <td>0</td>\n",
       "      <td>50</td>\n",
       "      <td>0</td>\n",
       "    </tr>\n",
       "    <tr>\n",
       "      <th>2</th>\n",
       "      <td>28</td>\n",
       "      <td>336951</td>\n",
       "      <td>12</td>\n",
       "      <td>0</td>\n",
       "      <td>0</td>\n",
       "      <td>40</td>\n",
       "      <td>1</td>\n",
       "    </tr>\n",
       "    <tr>\n",
       "      <th>3</th>\n",
       "      <td>44</td>\n",
       "      <td>160323</td>\n",
       "      <td>10</td>\n",
       "      <td>7688</td>\n",
       "      <td>0</td>\n",
       "      <td>40</td>\n",
       "      <td>1</td>\n",
       "    </tr>\n",
       "    <tr>\n",
       "      <th>4</th>\n",
       "      <td>18</td>\n",
       "      <td>103497</td>\n",
       "      <td>10</td>\n",
       "      <td>0</td>\n",
       "      <td>0</td>\n",
       "      <td>30</td>\n",
       "      <td>0</td>\n",
       "    </tr>\n",
       "  </tbody>\n",
       "</table>\n",
       "</div>"
      ],
      "text/plain": [
       "   age  fnlwgt  educational-num  capital-gain  capital-loss  hours-per-week  \\\n",
       "0   25  226802                7             0             0              40   \n",
       "1   38   89814                9             0             0              50   \n",
       "2   28  336951               12             0             0              40   \n",
       "3   44  160323               10          7688             0              40   \n",
       "4   18  103497               10             0             0              30   \n",
       "\n",
       "   income  \n",
       "0       0  \n",
       "1       0  \n",
       "2       1  \n",
       "3       1  \n",
       "4       0  "
      ]
     },
     "execution_count": 9,
     "metadata": {},
     "output_type": "execute_result"
    }
   ],
   "source": [
    "data_num=data[numeric_var_names]\n",
    "data_num.head(5)"
   ]
  },
  {
   "cell_type": "code",
   "execution_count": 10,
   "metadata": {},
   "outputs": [
    {
     "data": {
      "text/html": [
       "<div>\n",
       "<style scoped>\n",
       "    .dataframe tbody tr th:only-of-type {\n",
       "        vertical-align: middle;\n",
       "    }\n",
       "\n",
       "    .dataframe tbody tr th {\n",
       "        vertical-align: top;\n",
       "    }\n",
       "\n",
       "    .dataframe thead th {\n",
       "        text-align: right;\n",
       "    }\n",
       "</style>\n",
       "<table border=\"1\" class=\"dataframe\">\n",
       "  <thead>\n",
       "    <tr style=\"text-align: right;\">\n",
       "      <th></th>\n",
       "      <th>workclass</th>\n",
       "      <th>education</th>\n",
       "      <th>marital-status</th>\n",
       "      <th>occupation</th>\n",
       "      <th>relationship</th>\n",
       "      <th>race</th>\n",
       "      <th>gender</th>\n",
       "      <th>native-country</th>\n",
       "    </tr>\n",
       "  </thead>\n",
       "  <tbody>\n",
       "    <tr>\n",
       "      <th>0</th>\n",
       "      <td>Private</td>\n",
       "      <td>11th</td>\n",
       "      <td>Never-married</td>\n",
       "      <td>Machine-op-inspct</td>\n",
       "      <td>Own-child</td>\n",
       "      <td>Black</td>\n",
       "      <td>Male</td>\n",
       "      <td>United-States</td>\n",
       "    </tr>\n",
       "    <tr>\n",
       "      <th>1</th>\n",
       "      <td>Private</td>\n",
       "      <td>HS-grad</td>\n",
       "      <td>Married-civ-spouse</td>\n",
       "      <td>Farming-fishing</td>\n",
       "      <td>Husband</td>\n",
       "      <td>White</td>\n",
       "      <td>Male</td>\n",
       "      <td>United-States</td>\n",
       "    </tr>\n",
       "    <tr>\n",
       "      <th>2</th>\n",
       "      <td>Local-gov</td>\n",
       "      <td>Assoc-acdm</td>\n",
       "      <td>Married-civ-spouse</td>\n",
       "      <td>Protective-serv</td>\n",
       "      <td>Husband</td>\n",
       "      <td>White</td>\n",
       "      <td>Male</td>\n",
       "      <td>United-States</td>\n",
       "    </tr>\n",
       "    <tr>\n",
       "      <th>3</th>\n",
       "      <td>Private</td>\n",
       "      <td>Some-college</td>\n",
       "      <td>Married-civ-spouse</td>\n",
       "      <td>Machine-op-inspct</td>\n",
       "      <td>Husband</td>\n",
       "      <td>Black</td>\n",
       "      <td>Male</td>\n",
       "      <td>United-States</td>\n",
       "    </tr>\n",
       "    <tr>\n",
       "      <th>4</th>\n",
       "      <td>NaN</td>\n",
       "      <td>Some-college</td>\n",
       "      <td>Never-married</td>\n",
       "      <td>NaN</td>\n",
       "      <td>Own-child</td>\n",
       "      <td>White</td>\n",
       "      <td>Female</td>\n",
       "      <td>United-States</td>\n",
       "    </tr>\n",
       "  </tbody>\n",
       "</table>\n",
       "</div>"
      ],
      "text/plain": [
       "   workclass     education      marital-status         occupation  \\\n",
       "0    Private          11th       Never-married  Machine-op-inspct   \n",
       "1    Private       HS-grad  Married-civ-spouse    Farming-fishing   \n",
       "2  Local-gov    Assoc-acdm  Married-civ-spouse    Protective-serv   \n",
       "3    Private  Some-college  Married-civ-spouse  Machine-op-inspct   \n",
       "4        NaN  Some-college       Never-married                NaN   \n",
       "\n",
       "  relationship   race  gender native-country  \n",
       "0    Own-child  Black    Male  United-States  \n",
       "1      Husband  White    Male  United-States  \n",
       "2      Husband  White    Male  United-States  \n",
       "3      Husband  Black    Male  United-States  \n",
       "4    Own-child  White  Female  United-States  "
      ]
     },
     "execution_count": 10,
     "metadata": {},
     "output_type": "execute_result"
    }
   ],
   "source": [
    "my_df = data[cat_var_names]\n",
    "my_df.head(5)"
   ]
  },
  {
   "cell_type": "code",
   "execution_count": 11,
   "metadata": {},
   "outputs": [
    {
     "data": {
      "text/plain": [
       "16"
      ]
     },
     "execution_count": 11,
     "metadata": {},
     "output_type": "execute_result"
    }
   ],
   "source": [
    "len(my_df['education'].value_counts())"
   ]
  },
  {
   "cell_type": "code",
   "execution_count": 12,
   "metadata": {},
   "outputs": [
    {
     "name": "stderr",
     "output_type": "stream",
     "text": [
      "C:\\Users\\gaura\\AppData\\Local\\Continuum\\anaconda3\\lib\\site-packages\\pandas\\core\\generic.py:6586: SettingWithCopyWarning: \n",
      "A value is trying to be set on a copy of a slice from a DataFrame\n",
      "\n",
      "See the caveats in the documentation: http://pandas.pydata.org/pandas-docs/stable/indexing.html#indexing-view-versus-copy\n",
      "  self._update_inplace(new_data)\n"
     ]
    }
   ],
   "source": [
    "my_df['education'].replace('Preschool', 'dropout',inplace=True)\n",
    "my_df['education'].replace('10th', 'dropout',inplace=True)\n",
    "my_df['education'].replace('11th', 'dropout',inplace=True)\n",
    "my_df['education'].replace('12th', 'dropout',inplace=True)\n",
    "my_df['education'].replace('1st-4th', 'dropout',inplace=True)\n",
    "my_df['education'].replace('5th-6th', 'dropout',inplace=True)\n",
    "my_df['education'].replace('7th-8th', 'dropout',inplace=True)\n",
    "my_df['education'].replace('9th', 'dropout',inplace=True)\n",
    "my_df['education'].replace('HS-Grad', 'HighGrad',inplace=True)\n",
    "my_df['education'].replace('HS-grad', 'HighGrad',inplace=True)\n",
    "my_df['education'].replace('Some-college', 'CommunityCollege',inplace=True)\n",
    "my_df['education'].replace('Assoc-acdm', 'CommunityCollege',inplace=True)\n",
    "my_df['education'].replace('Assoc-voc', 'CommunityCollege',inplace=True)\n",
    "my_df['education'].replace('Bachelors', 'Bachelors',inplace=True)\n",
    "my_df['education'].replace('Masters', 'Masters',inplace=True)\n",
    "my_df['education'].replace('Prof-school', 'Masters',inplace=True)\n",
    "my_df['education'].replace('Doctorate', 'Doctorate',inplace=True)"
   ]
  },
  {
   "cell_type": "code",
   "execution_count": 13,
   "metadata": {},
   "outputs": [],
   "source": [
    "my_df['marital-status'].replace('Never-married', 'NotMarried',inplace=True)\n",
    "my_df['marital-status'].replace(['Married-AF-spouse'], 'Married',inplace=True)\n",
    "my_df['marital-status'].replace(['Married-civ-spouse'], 'Married',inplace=True)\n",
    "my_df['marital-status'].replace(['Married-spouse-absent'], 'NotMarried',inplace=True)\n",
    "my_df['marital-status'].replace(['Separated'], 'Separated',inplace=True)\n",
    "my_df['marital-status'].replace(['Divorced'], 'Separated',inplace=True)\n",
    "my_df['marital-status'].replace(['Widowed'], 'Widowed',inplace=True)"
   ]
  },
  {
   "cell_type": "code",
   "execution_count": 14,
   "metadata": {},
   "outputs": [
    {
     "data": {
      "text/plain": [
       "workclass         536\n",
       "education           0\n",
       "marital-status      0\n",
       "occupation        537\n",
       "relationship        0\n",
       "race                0\n",
       "gender              0\n",
       "native-country    143\n",
       "dtype: int64"
      ]
     },
     "execution_count": 14,
     "metadata": {},
     "output_type": "execute_result"
    }
   ],
   "source": [
    "my_df.isnull().sum()"
   ]
  },
  {
   "cell_type": "code",
   "execution_count": 15,
   "metadata": {},
   "outputs": [
    {
     "data": {
      "text/plain": [
       "'Private'"
      ]
     },
     "execution_count": 15,
     "metadata": {},
     "output_type": "execute_result"
    }
   ],
   "source": [
    "my_df['workclass'].mode().iloc[0]"
   ]
  },
  {
   "cell_type": "code",
   "execution_count": 16,
   "metadata": {},
   "outputs": [
    {
     "data": {
      "text/plain": [
       "Private             6047\n",
       "Self-emp-not-inc     721\n",
       "Local-gov            564\n",
       "State-gov            392\n",
       "Self-emp-inc         334\n",
       "Federal-gov          252\n",
       "Without-pay            3\n",
       "Never-worked           1\n",
       "Name: workclass, dtype: int64"
      ]
     },
     "execution_count": 16,
     "metadata": {},
     "output_type": "execute_result"
    }
   ],
   "source": [
    "my_df['workclass'].value_counts()"
   ]
  },
  {
   "cell_type": "code",
   "execution_count": 17,
   "metadata": {},
   "outputs": [
    {
     "name": "stderr",
     "output_type": "stream",
     "text": [
      "C:\\Users\\gaura\\AppData\\Local\\Continuum\\anaconda3\\lib\\site-packages\\ipykernel_launcher.py:2: SettingWithCopyWarning: \n",
      "A value is trying to be set on a copy of a slice from a DataFrame.\n",
      "Try using .loc[row_indexer,col_indexer] = value instead\n",
      "\n",
      "See the caveats in the documentation: http://pandas.pydata.org/pandas-docs/stable/indexing.html#indexing-view-versus-copy\n",
      "  \n"
     ]
    }
   ],
   "source": [
    "for i in my_df[['workclass', 'education', 'marital-status', 'occupation',  'relationship', 'race', 'gender', 'native-country']]:\n",
    "    my_df[i] = my_df[i].fillna((my_df[i].mode()).iloc[0])\n"
   ]
  },
  {
   "cell_type": "code",
   "execution_count": 18,
   "metadata": {},
   "outputs": [],
   "source": [
    "def var_summary(x):\n",
    "    return pd.Series([x.count(), x.isnull().sum(), x.sum(), x.mean(), x.median(),  x.std(), x.var(), x.min(), x.dropna().quantile(0.01), x.dropna().quantile(0.05),x.dropna().quantile(0.10),x.dropna().quantile(0.25),x.dropna().quantile(0.50),x.dropna().quantile(0.75), x.dropna().quantile(0.90),x.dropna().quantile(0.95), x.dropna().quantile(0.99),x.max()], \n",
    "                  index=['N', 'NMISS', 'SUM', 'MEAN','MEDIAN', 'STD', 'VAR', 'MIN', 'P1' , 'P5' ,'P10' ,'P25' ,'P50' ,'P75' ,'P90' ,'P95' ,'P99' ,'MAX'])\n",
    "\n",
    "num_summary=data_num.apply(lambda x: var_summary(x)).T"
   ]
  },
  {
   "cell_type": "code",
   "execution_count": 19,
   "metadata": {},
   "outputs": [
    {
     "name": "stderr",
     "output_type": "stream",
     "text": [
      "C:\\Users\\gaura\\AppData\\Local\\Continuum\\anaconda3\\lib\\site-packages\\ipykernel_launcher.py:2: FutureWarning: clip_upper(threshold) is deprecated, use clip(upper=threshold) instead\n",
      "  \n",
      "C:\\Users\\gaura\\AppData\\Local\\Continuum\\anaconda3\\lib\\site-packages\\ipykernel_launcher.py:3: FutureWarning: clip_lower(threshold) is deprecated, use clip(lower=threshold) instead\n",
      "  This is separate from the ipykernel package so we can avoid doing imports until\n"
     ]
    }
   ],
   "source": [
    "def outlier_capping(x):\n",
    "    x = x.clip_upper(x.quantile(0.98))\n",
    "    x = x.clip_lower(x.quantile(0.02))\n",
    "    return x\n",
    "\n",
    "data_num=data_num.apply(lambda x: outlier_capping(x))"
   ]
  },
  {
   "cell_type": "code",
   "execution_count": 20,
   "metadata": {},
   "outputs": [
    {
     "data": {
      "text/html": [
       "<div>\n",
       "<style scoped>\n",
       "    .dataframe tbody tr th:only-of-type {\n",
       "        vertical-align: middle;\n",
       "    }\n",
       "\n",
       "    .dataframe tbody tr th {\n",
       "        vertical-align: top;\n",
       "    }\n",
       "\n",
       "    .dataframe thead th {\n",
       "        text-align: right;\n",
       "    }\n",
       "</style>\n",
       "<table border=\"1\" class=\"dataframe\">\n",
       "  <thead>\n",
       "    <tr style=\"text-align: right;\">\n",
       "      <th></th>\n",
       "      <th>N</th>\n",
       "      <th>NMISS</th>\n",
       "      <th>SUM</th>\n",
       "      <th>MEAN</th>\n",
       "      <th>MEDIAN</th>\n",
       "      <th>STD</th>\n",
       "      <th>VAR</th>\n",
       "      <th>MIN</th>\n",
       "      <th>P1</th>\n",
       "      <th>P5</th>\n",
       "      <th>P10</th>\n",
       "      <th>P25</th>\n",
       "      <th>P50</th>\n",
       "      <th>P75</th>\n",
       "      <th>P90</th>\n",
       "      <th>P95</th>\n",
       "      <th>P99</th>\n",
       "      <th>MAX</th>\n",
       "    </tr>\n",
       "  </thead>\n",
       "  <tbody>\n",
       "    <tr>\n",
       "      <th>age</th>\n",
       "      <td>8850.0</td>\n",
       "      <td>0.0</td>\n",
       "      <td>3.415390e+05</td>\n",
       "      <td>38.591977</td>\n",
       "      <td>37.0</td>\n",
       "      <td>13.475767</td>\n",
       "      <td>1.815963e+02</td>\n",
       "      <td>18.0</td>\n",
       "      <td>18.0</td>\n",
       "      <td>20.00</td>\n",
       "      <td>22.0</td>\n",
       "      <td>28.00</td>\n",
       "      <td>37.0</td>\n",
       "      <td>48.0</td>\n",
       "      <td>58.0</td>\n",
       "      <td>64.00</td>\n",
       "      <td>70.0</td>\n",
       "      <td>70.0</td>\n",
       "    </tr>\n",
       "    <tr>\n",
       "      <th>fnlwgt</th>\n",
       "      <td>8850.0</td>\n",
       "      <td>0.0</td>\n",
       "      <td>1.648332e+09</td>\n",
       "      <td>186252.152339</td>\n",
       "      <td>178007.0</td>\n",
       "      <td>96680.380126</td>\n",
       "      <td>9.347096e+09</td>\n",
       "      <td>30795.6</td>\n",
       "      <td>30795.6</td>\n",
       "      <td>39810.55</td>\n",
       "      <td>63102.6</td>\n",
       "      <td>115590.75</td>\n",
       "      <td>178007.0</td>\n",
       "      <td>237546.0</td>\n",
       "      <td>323829.4</td>\n",
       "      <td>376223.35</td>\n",
       "      <td>446899.0</td>\n",
       "      <td>446899.0</td>\n",
       "    </tr>\n",
       "    <tr>\n",
       "      <th>educational-num</th>\n",
       "      <td>8850.0</td>\n",
       "      <td>0.0</td>\n",
       "      <td>8.922600e+04</td>\n",
       "      <td>10.082034</td>\n",
       "      <td>10.0</td>\n",
       "      <td>2.470814</td>\n",
       "      <td>6.104921e+00</td>\n",
       "      <td>4.0</td>\n",
       "      <td>4.0</td>\n",
       "      <td>5.00</td>\n",
       "      <td>7.0</td>\n",
       "      <td>9.00</td>\n",
       "      <td>10.0</td>\n",
       "      <td>12.0</td>\n",
       "      <td>13.0</td>\n",
       "      <td>14.00</td>\n",
       "      <td>15.0</td>\n",
       "      <td>15.0</td>\n",
       "    </tr>\n",
       "    <tr>\n",
       "      <th>capital-gain</th>\n",
       "      <td>8850.0</td>\n",
       "      <td>0.0</td>\n",
       "      <td>5.172765e+06</td>\n",
       "      <td>584.493220</td>\n",
       "      <td>0.0</td>\n",
       "      <td>2300.668997</td>\n",
       "      <td>5.293078e+06</td>\n",
       "      <td>0.0</td>\n",
       "      <td>0.0</td>\n",
       "      <td>0.00</td>\n",
       "      <td>0.0</td>\n",
       "      <td>0.00</td>\n",
       "      <td>0.0</td>\n",
       "      <td>0.0</td>\n",
       "      <td>0.0</td>\n",
       "      <td>4931.00</td>\n",
       "      <td>13550.0</td>\n",
       "      <td>13550.0</td>\n",
       "    </tr>\n",
       "    <tr>\n",
       "      <th>capital-loss</th>\n",
       "      <td>8850.0</td>\n",
       "      <td>0.0</td>\n",
       "      <td>7.372040e+05</td>\n",
       "      <td>83.299887</td>\n",
       "      <td>0.0</td>\n",
       "      <td>379.077537</td>\n",
       "      <td>1.436998e+05</td>\n",
       "      <td>0.0</td>\n",
       "      <td>0.0</td>\n",
       "      <td>0.00</td>\n",
       "      <td>0.0</td>\n",
       "      <td>0.00</td>\n",
       "      <td>0.0</td>\n",
       "      <td>0.0</td>\n",
       "      <td>0.0</td>\n",
       "      <td>0.00</td>\n",
       "      <td>1902.0</td>\n",
       "      <td>1902.0</td>\n",
       "    </tr>\n",
       "    <tr>\n",
       "      <th>hours-per-week</th>\n",
       "      <td>8850.0</td>\n",
       "      <td>0.0</td>\n",
       "      <td>3.567150e+05</td>\n",
       "      <td>40.306780</td>\n",
       "      <td>40.0</td>\n",
       "      <td>11.488693</td>\n",
       "      <td>1.319901e+02</td>\n",
       "      <td>10.0</td>\n",
       "      <td>10.0</td>\n",
       "      <td>18.00</td>\n",
       "      <td>24.9</td>\n",
       "      <td>40.00</td>\n",
       "      <td>40.0</td>\n",
       "      <td>45.0</td>\n",
       "      <td>55.0</td>\n",
       "      <td>60.00</td>\n",
       "      <td>70.0</td>\n",
       "      <td>70.0</td>\n",
       "    </tr>\n",
       "    <tr>\n",
       "      <th>income</th>\n",
       "      <td>8850.0</td>\n",
       "      <td>0.0</td>\n",
       "      <td>2.067000e+03</td>\n",
       "      <td>0.233559</td>\n",
       "      <td>0.0</td>\n",
       "      <td>0.423119</td>\n",
       "      <td>1.790296e-01</td>\n",
       "      <td>0.0</td>\n",
       "      <td>0.0</td>\n",
       "      <td>0.00</td>\n",
       "      <td>0.0</td>\n",
       "      <td>0.00</td>\n",
       "      <td>0.0</td>\n",
       "      <td>0.0</td>\n",
       "      <td>1.0</td>\n",
       "      <td>1.00</td>\n",
       "      <td>1.0</td>\n",
       "      <td>1.0</td>\n",
       "    </tr>\n",
       "  </tbody>\n",
       "</table>\n",
       "</div>"
      ],
      "text/plain": [
       "                      N  NMISS           SUM           MEAN    MEDIAN  \\\n",
       "age              8850.0    0.0  3.415390e+05      38.591977      37.0   \n",
       "fnlwgt           8850.0    0.0  1.648332e+09  186252.152339  178007.0   \n",
       "educational-num  8850.0    0.0  8.922600e+04      10.082034      10.0   \n",
       "capital-gain     8850.0    0.0  5.172765e+06     584.493220       0.0   \n",
       "capital-loss     8850.0    0.0  7.372040e+05      83.299887       0.0   \n",
       "hours-per-week   8850.0    0.0  3.567150e+05      40.306780      40.0   \n",
       "income           8850.0    0.0  2.067000e+03       0.233559       0.0   \n",
       "\n",
       "                          STD           VAR      MIN       P1        P5  \\\n",
       "age                 13.475767  1.815963e+02     18.0     18.0     20.00   \n",
       "fnlwgt           96680.380126  9.347096e+09  30795.6  30795.6  39810.55   \n",
       "educational-num      2.470814  6.104921e+00      4.0      4.0      5.00   \n",
       "capital-gain      2300.668997  5.293078e+06      0.0      0.0      0.00   \n",
       "capital-loss       379.077537  1.436998e+05      0.0      0.0      0.00   \n",
       "hours-per-week      11.488693  1.319901e+02     10.0     10.0     18.00   \n",
       "income               0.423119  1.790296e-01      0.0      0.0      0.00   \n",
       "\n",
       "                     P10        P25       P50       P75       P90        P95  \\\n",
       "age                 22.0      28.00      37.0      48.0      58.0      64.00   \n",
       "fnlwgt           63102.6  115590.75  178007.0  237546.0  323829.4  376223.35   \n",
       "educational-num      7.0       9.00      10.0      12.0      13.0      14.00   \n",
       "capital-gain         0.0       0.00       0.0       0.0       0.0    4931.00   \n",
       "capital-loss         0.0       0.00       0.0       0.0       0.0       0.00   \n",
       "hours-per-week      24.9      40.00      40.0      45.0      55.0      60.00   \n",
       "income               0.0       0.00       0.0       0.0       1.0       1.00   \n",
       "\n",
       "                      P99       MAX  \n",
       "age                  70.0      70.0  \n",
       "fnlwgt           446899.0  446899.0  \n",
       "educational-num      15.0      15.0  \n",
       "capital-gain      13550.0   13550.0  \n",
       "capital-loss       1902.0    1902.0  \n",
       "hours-per-week       70.0      70.0  \n",
       "income                1.0       1.0  "
      ]
     },
     "execution_count": 20,
     "metadata": {},
     "output_type": "execute_result"
    }
   ],
   "source": [
    "num_summary=data_num.apply(lambda x: var_summary(x)).T\n",
    "num_summary"
   ]
  },
  {
   "cell_type": "code",
   "execution_count": 21,
   "metadata": {},
   "outputs": [],
   "source": [
    "#Handling missings - Method2\n",
    "def Missing_imputation(x):\n",
    "    x = x.fillna(x.mean())\n",
    "    return x\n",
    "\n",
    "num_summary=num_summary.apply(lambda x: Missing_imputation(x))"
   ]
  },
  {
   "cell_type": "code",
   "execution_count": 22,
   "metadata": {},
   "outputs": [],
   "source": [
    "newdata = pd.concat([my_df,data_num],axis=1)"
   ]
  },
  {
   "cell_type": "code",
   "execution_count": 25,
   "metadata": {},
   "outputs": [
    {
     "data": {
      "text/plain": [
       "(8850, 15)"
      ]
     },
     "execution_count": 25,
     "metadata": {},
     "output_type": "execute_result"
    }
   ],
   "source": [
    "newdata.shape"
   ]
  },
  {
   "cell_type": "code",
   "execution_count": 23,
   "metadata": {},
   "outputs": [],
   "source": [
    "# An utility function to create dummy variable\n",
    "def create_dummies( df, colname ):\n",
    "    col_dummies = pd.get_dummies(df[colname], prefix=colname)\n",
    "    col_dummies.drop(col_dummies.columns[0], axis=1, inplace=True)\n",
    "    df = pd.concat([df, col_dummies], axis=1)\n",
    "    df.drop( colname, axis = 1, inplace = True )\n",
    "    return df\n",
    "for c_feature in my_df.columns:\n",
    "    newdata = create_dummies( newdata, c_feature )"
   ]
  },
  {
   "cell_type": "code",
   "execution_count": 24,
   "metadata": {},
   "outputs": [
    {
     "data": {
      "text/plain": [
       "(8850, 84)"
      ]
     },
     "execution_count": 24,
     "metadata": {},
     "output_type": "execute_result"
    }
   ],
   "source": [
    "newdata.shape"
   ]
  },
  {
   "cell_type": "code",
   "execution_count": 25,
   "metadata": {},
   "outputs": [
    {
     "data": {
      "text/html": [
       "<div>\n",
       "<style scoped>\n",
       "    .dataframe tbody tr th:only-of-type {\n",
       "        vertical-align: middle;\n",
       "    }\n",
       "\n",
       "    .dataframe tbody tr th {\n",
       "        vertical-align: top;\n",
       "    }\n",
       "\n",
       "    .dataframe thead th {\n",
       "        text-align: right;\n",
       "    }\n",
       "</style>\n",
       "<table border=\"1\" class=\"dataframe\">\n",
       "  <thead>\n",
       "    <tr style=\"text-align: right;\">\n",
       "      <th></th>\n",
       "      <th>age_squared</th>\n",
       "      <th>fnlwgt_squared</th>\n",
       "      <th>educational-num_squared</th>\n",
       "      <th>capital-gain_squared</th>\n",
       "      <th>capital-loss_squared</th>\n",
       "      <th>hours-per-week_squared</th>\n",
       "      <th>age_sqrt</th>\n",
       "      <th>fnlwgt_sqrt</th>\n",
       "      <th>educational-num_sqrt</th>\n",
       "      <th>capital-gain_sqrt</th>\n",
       "      <th>capital-loss_sqrt</th>\n",
       "      <th>hours-per-week_sqrt</th>\n",
       "      <th>age_ln</th>\n",
       "      <th>fnlwgt_ln</th>\n",
       "      <th>educational-num_ln</th>\n",
       "      <th>capital-gain_ln</th>\n",
       "      <th>capital-loss_ln</th>\n",
       "      <th>hours-per-week_ln</th>\n",
       "    </tr>\n",
       "  </thead>\n",
       "  <tbody>\n",
       "    <tr>\n",
       "      <th>0</th>\n",
       "      <td>625</td>\n",
       "      <td>5.143915e+10</td>\n",
       "      <td>49</td>\n",
       "      <td>0</td>\n",
       "      <td>0</td>\n",
       "      <td>1600</td>\n",
       "      <td>5.000000</td>\n",
       "      <td>476.237336</td>\n",
       "      <td>2.645751</td>\n",
       "      <td>0.000000</td>\n",
       "      <td>0.0</td>\n",
       "      <td>6.324555</td>\n",
       "      <td>3.258097</td>\n",
       "      <td>12.331837</td>\n",
       "      <td>2.079442</td>\n",
       "      <td>0.000000</td>\n",
       "      <td>0.0</td>\n",
       "      <td>3.713572</td>\n",
       "    </tr>\n",
       "    <tr>\n",
       "      <th>1</th>\n",
       "      <td>1444</td>\n",
       "      <td>8.066555e+09</td>\n",
       "      <td>81</td>\n",
       "      <td>0</td>\n",
       "      <td>0</td>\n",
       "      <td>2500</td>\n",
       "      <td>6.164414</td>\n",
       "      <td>299.689840</td>\n",
       "      <td>3.000000</td>\n",
       "      <td>0.000000</td>\n",
       "      <td>0.0</td>\n",
       "      <td>7.071068</td>\n",
       "      <td>3.663562</td>\n",
       "      <td>11.405507</td>\n",
       "      <td>2.302585</td>\n",
       "      <td>0.000000</td>\n",
       "      <td>0.0</td>\n",
       "      <td>3.931826</td>\n",
       "    </tr>\n",
       "    <tr>\n",
       "      <th>2</th>\n",
       "      <td>784</td>\n",
       "      <td>1.135360e+11</td>\n",
       "      <td>144</td>\n",
       "      <td>0</td>\n",
       "      <td>0</td>\n",
       "      <td>1600</td>\n",
       "      <td>5.291503</td>\n",
       "      <td>580.474806</td>\n",
       "      <td>3.464102</td>\n",
       "      <td>0.000000</td>\n",
       "      <td>0.0</td>\n",
       "      <td>6.324555</td>\n",
       "      <td>3.367296</td>\n",
       "      <td>12.727696</td>\n",
       "      <td>2.564949</td>\n",
       "      <td>0.000000</td>\n",
       "      <td>0.0</td>\n",
       "      <td>3.713572</td>\n",
       "    </tr>\n",
       "    <tr>\n",
       "      <th>3</th>\n",
       "      <td>1936</td>\n",
       "      <td>2.570346e+10</td>\n",
       "      <td>100</td>\n",
       "      <td>59105344</td>\n",
       "      <td>0</td>\n",
       "      <td>1600</td>\n",
       "      <td>6.633250</td>\n",
       "      <td>400.403546</td>\n",
       "      <td>3.162278</td>\n",
       "      <td>87.681241</td>\n",
       "      <td>0.0</td>\n",
       "      <td>6.324555</td>\n",
       "      <td>3.806662</td>\n",
       "      <td>11.984952</td>\n",
       "      <td>2.397895</td>\n",
       "      <td>8.947546</td>\n",
       "      <td>0.0</td>\n",
       "      <td>3.713572</td>\n",
       "    </tr>\n",
       "    <tr>\n",
       "      <th>4</th>\n",
       "      <td>324</td>\n",
       "      <td>1.071163e+10</td>\n",
       "      <td>100</td>\n",
       "      <td>0</td>\n",
       "      <td>0</td>\n",
       "      <td>900</td>\n",
       "      <td>4.242641</td>\n",
       "      <td>321.709496</td>\n",
       "      <td>3.162278</td>\n",
       "      <td>0.000000</td>\n",
       "      <td>0.0</td>\n",
       "      <td>5.477226</td>\n",
       "      <td>2.944439</td>\n",
       "      <td>11.547308</td>\n",
       "      <td>2.397895</td>\n",
       "      <td>0.000000</td>\n",
       "      <td>0.0</td>\n",
       "      <td>3.433987</td>\n",
       "    </tr>\n",
       "  </tbody>\n",
       "</table>\n",
       "</div>"
      ],
      "text/plain": [
       "   age_squared  fnlwgt_squared  educational-num_squared  capital-gain_squared  \\\n",
       "0          625    5.143915e+10                       49                     0   \n",
       "1         1444    8.066555e+09                       81                     0   \n",
       "2          784    1.135360e+11                      144                     0   \n",
       "3         1936    2.570346e+10                      100              59105344   \n",
       "4          324    1.071163e+10                      100                     0   \n",
       "\n",
       "   capital-loss_squared  hours-per-week_squared  age_sqrt  fnlwgt_sqrt  \\\n",
       "0                     0                    1600  5.000000   476.237336   \n",
       "1                     0                    2500  6.164414   299.689840   \n",
       "2                     0                    1600  5.291503   580.474806   \n",
       "3                     0                    1600  6.633250   400.403546   \n",
       "4                     0                     900  4.242641   321.709496   \n",
       "\n",
       "   educational-num_sqrt  capital-gain_sqrt  capital-loss_sqrt  \\\n",
       "0              2.645751           0.000000                0.0   \n",
       "1              3.000000           0.000000                0.0   \n",
       "2              3.464102           0.000000                0.0   \n",
       "3              3.162278          87.681241                0.0   \n",
       "4              3.162278           0.000000                0.0   \n",
       "\n",
       "   hours-per-week_sqrt    age_ln  fnlwgt_ln  educational-num_ln  \\\n",
       "0             6.324555  3.258097  12.331837            2.079442   \n",
       "1             7.071068  3.663562  11.405507            2.302585   \n",
       "2             6.324555  3.367296  12.727696            2.564949   \n",
       "3             6.324555  3.806662  11.984952            2.397895   \n",
       "4             5.477226  2.944439  11.547308            2.397895   \n",
       "\n",
       "   capital-gain_ln  capital-loss_ln  hours-per-week_ln  \n",
       "0         0.000000              0.0           3.713572  \n",
       "1         0.000000              0.0           3.931826  \n",
       "2         0.000000              0.0           3.713572  \n",
       "3         8.947546              0.0           3.713572  \n",
       "4         0.000000              0.0           3.433987  "
      ]
     },
     "execution_count": 25,
     "metadata": {},
     "output_type": "execute_result"
    }
   ],
   "source": [
    "num_list=['age', 'fnlwgt', 'educational-num', 'capital-gain', 'capital-loss', 'hours-per-week']   \n",
    "hrdf_transform = newdata[num_list].copy()\n",
    "squared = (hrdf_transform**2).add_suffix(\"_squared\")\n",
    "square_root = (hrdf_transform**0.5).add_suffix(\"_sqrt\")\n",
    "natural_log = np.log(hrdf_transform+1).add_suffix(\"_ln\")\n",
    "hrdf_transform = pd.concat([hrdf_transform, squared, square_root, natural_log], axis=1)\n",
    "hrdf_transform.drop(['age', 'fnlwgt', 'educational-num', 'capital-gain', 'capital-loss', 'hours-per-week'], axis=1, inplace=True)\n",
    "hrdf_transform.head()"
   ]
  },
  {
   "cell_type": "code",
   "execution_count": 26,
   "metadata": {},
   "outputs": [],
   "source": [
    "newdata2= pd.concat([newdata,hrdf_transform],axis=1)"
   ]
  },
  {
   "cell_type": "code",
   "execution_count": 27,
   "metadata": {},
   "outputs": [
    {
     "data": {
      "text/plain": [
       "(8850, 102)"
      ]
     },
     "execution_count": 27,
     "metadata": {},
     "output_type": "execute_result"
    }
   ],
   "source": [
    "newdata2.shape"
   ]
  },
  {
   "cell_type": "code",
   "execution_count": 28,
   "metadata": {},
   "outputs": [],
   "source": [
    "y= newdata2['income']"
   ]
  },
  {
   "cell_type": "code",
   "execution_count": 29,
   "metadata": {},
   "outputs": [],
   "source": [
    "del newdata2['income']"
   ]
  },
  {
   "cell_type": "code",
   "execution_count": 30,
   "metadata": {},
   "outputs": [],
   "source": [
    "X_train, X_test, y_train, y_test = train_test_split(newdata2, y, test_size = 0.3, stratify=y, random_state = 100) "
   ]
  },
  {
   "cell_type": "code",
   "execution_count": 31,
   "metadata": {},
   "outputs": [],
   "source": [
    "from sklearn.ensemble import RandomForestClassifier"
   ]
  },
  {
   "cell_type": "code",
   "execution_count": 32,
   "metadata": {},
   "outputs": [],
   "source": [
    "rnd_clf = RandomForestClassifier(n_estimators=10, n_jobs=-1, random_state=42)"
   ]
  },
  {
   "cell_type": "code",
   "execution_count": 33,
   "metadata": {},
   "outputs": [
    {
     "data": {
      "text/plain": [
       "RandomForestClassifier(bootstrap=True, ccp_alpha=0.0, class_weight=None,\n",
       "                       criterion='gini', max_depth=None, max_features='auto',\n",
       "                       max_leaf_nodes=None, max_samples=None,\n",
       "                       min_impurity_decrease=0.0, min_impurity_split=None,\n",
       "                       min_samples_leaf=1, min_samples_split=2,\n",
       "                       min_weight_fraction_leaf=0.0, n_estimators=10, n_jobs=-1,\n",
       "                       oob_score=False, random_state=42, verbose=0,\n",
       "                       warm_start=False)"
      ]
     },
     "execution_count": 33,
     "metadata": {},
     "output_type": "execute_result"
    }
   ],
   "source": [
    "rnd_clf.fit(X_train, y_train)"
   ]
  },
  {
   "cell_type": "code",
   "execution_count": 34,
   "metadata": {},
   "outputs": [
    {
     "name": "stdout",
     "output_type": "stream",
     "text": [
      "Accuracy Score : 0.8361581920903954\n",
      "Precision Score : 0.7107061503416856\n",
      "Recall Score : 0.5032258064516129\n",
      "F1 Score : 0.5892351274787535\n"
     ]
    }
   ],
   "source": [
    "y_pred= rnd_clf.predict(X_test)\n",
    "from sklearn.metrics import accuracy_score,recall_score,precision_score,f1_score\n",
    "print('Accuracy Score : ' + str(accuracy_score(y_test,y_pred)))\n",
    "print('Precision Score : ' + str(precision_score(y_test,y_pred)))\n",
    "print('Recall Score : ' + str(recall_score(y_test,y_pred)))\n",
    "print('F1 Score : ' + str(f1_score(y_test,y_pred)))"
   ]
  },
  {
   "cell_type": "code",
   "execution_count": 35,
   "metadata": {},
   "outputs": [
    {
     "name": "stdout",
     "output_type": "stream",
     "text": [
      "Confusion Matrix : \n",
      "[[1908  127]\n",
      " [ 308  312]]\n"
     ]
    }
   ],
   "source": [
    "from sklearn.metrics import confusion_matrix\n",
    "print('Confusion Matrix : \\n' + str(confusion_matrix(y_test,y_pred)))"
   ]
  },
  {
   "cell_type": "code",
   "execution_count": 39,
   "metadata": {},
   "outputs": [
    {
     "data": {
      "text/plain": [
       "array([3.70633988e-02, 4.55629960e-02, 3.20881623e-02, 4.25613782e-02,\n",
       "       8.60385689e-03, 2.08084187e-02, 4.07377502e-03, 0.00000000e+00,\n",
       "       7.73411379e-03, 4.71440306e-03, 7.23770023e-03, 3.78669537e-03,\n",
       "       0.00000000e+00, 3.92832991e-03, 1.23675569e-03, 4.34039009e-03,\n",
       "       7.33851827e-03, 4.71573596e-03, 4.10408382e-02, 2.32702735e-02,\n",
       "       3.37139497e-03, 4.63897040e-05, 6.06124064e-03, 2.04590525e-02,\n",
       "       2.57048222e-03, 2.74463714e-03, 4.32977038e-03, 4.30032383e-03,\n",
       "       1.81247117e-04, 6.66785044e-03, 1.96131217e-03, 5.11194437e-03,\n",
       "       2.44269264e-03, 4.09002777e-03, 2.15785368e-02, 9.87048319e-04,\n",
       "       7.38397323e-03, 8.53855256e-03, 1.07584275e-02, 1.90067246e-03,\n",
       "       2.47551485e-03, 8.46520193e-04, 5.34851732e-03, 1.41520433e-02,\n",
       "       5.30927631e-04, 2.34812745e-04, 7.69518819e-05, 3.19180895e-04,\n",
       "       4.66885707e-05, 0.00000000e+00, 3.17168563e-04, 5.90382261e-05,\n",
       "       6.28062281e-05, 9.72927552e-05, 3.44891607e-04, 6.03166258e-05,\n",
       "       1.59042255e-04, 2.14250533e-04, 0.00000000e+00, 1.68266160e-04,\n",
       "       5.71904678e-04, 2.03960704e-04, 2.93107762e-04, 5.84614248e-05,\n",
       "       1.62802664e-04, 5.79714487e-05, 9.27948089e-07, 2.93448375e-04,\n",
       "       0.00000000e+00, 0.00000000e+00, 2.56584204e-05, 5.39069329e-04,\n",
       "       5.79049099e-04, 1.69102703e-04, 4.39848518e-04, 8.23413168e-05,\n",
       "       2.77858921e-04, 4.46366237e-05, 1.98902859e-04, 0.00000000e+00,\n",
       "       4.57849187e-03, 7.00973462e-05, 0.00000000e+00, 4.80645992e-02,\n",
       "       4.93705271e-02, 3.77315632e-02, 4.97502905e-02, 1.54004385e-02,\n",
       "       2.15847665e-02, 4.43594266e-02, 4.50314136e-02, 1.94322278e-02,\n",
       "       2.02112303e-02, 9.75257654e-03, 2.26202567e-02, 4.75261880e-02,\n",
       "       4.73529819e-02, 3.07354285e-02, 1.20588678e-02, 4.03431408e-03,\n",
       "       2.52297142e-02])"
      ]
     },
     "execution_count": 39,
     "metadata": {},
     "output_type": "execute_result"
    }
   ],
   "source": [
    "rnd_clf.feature_importances_"
   ]
  },
  {
   "cell_type": "code",
   "execution_count": 40,
   "metadata": {},
   "outputs": [
    {
     "name": "stdout",
     "output_type": "stream",
     "text": [
      "age = 0.03706339876880284\n",
      "fnlwgt = 0.0455629959922874\n",
      "educational-num = 0.03208816229147347\n",
      "capital-gain = 0.04256137821883154\n",
      "capital-loss = 0.008603856893727783\n",
      "hours-per-week = 0.020808418716036284\n",
      "workclass_Local-gov = 0.004073775017402647\n",
      "workclass_Never-worked = 0.0\n",
      "workclass_Private = 0.007734113787527588\n",
      "workclass_Self-emp-inc = 0.0047144030618545135\n",
      "workclass_Self-emp-not-inc = 0.007237700229331789\n",
      "workclass_State-gov = 0.003786695374555176\n",
      "workclass_Without-pay = 0.0\n",
      "education_CommunityCollege = 0.003928329908429991\n",
      "education_Doctorate = 0.0012367556943394839\n",
      "education_HighGrad = 0.004340390090072649\n",
      "education_Masters = 0.007338518265786728\n",
      "education_dropout = 0.004715735958532335\n",
      "marital-status_NotMarried = 0.04104083818113448\n",
      "marital-status_Separated = 0.02327027345799466\n",
      "marital-status_Widowed = 0.003371394968919885\n",
      "occupation_Armed-Forces = 4.638970401880152e-05\n",
      "occupation_Craft-repair = 0.006061240636380991\n",
      "occupation_Exec-managerial = 0.02045905250120563\n",
      "occupation_Farming-fishing = 0.0025704822183281704\n",
      "occupation_Handlers-cleaners = 0.002744637144958209\n",
      "occupation_Machine-op-inspct = 0.004329770383789241\n",
      "occupation_Other-service = 0.004300323826624982\n",
      "occupation_Priv-house-serv = 0.00018124711746086742\n",
      "occupation_Prof-specialty = 0.006667850439937703\n",
      "occupation_Protective-serv = 0.0019613121702200483\n",
      "occupation_Sales = 0.00511194436589724\n",
      "occupation_Tech-support = 0.002442692640800984\n",
      "occupation_Transport-moving = 0.004090027769984379\n",
      "relationship_Not-in-family = 0.021578536819154837\n",
      "relationship_Other-relative = 0.000987048318629445\n",
      "relationship_Own-child = 0.007383973227885659\n",
      "relationship_Unmarried = 0.008538552560229222\n",
      "relationship_Wife = 0.01075842747596122\n",
      "race_Asian-Pac-Islander = 0.001900672458571268\n",
      "race_Black = 0.0024755148476572125\n",
      "race_Other = 0.0008465201929120474\n",
      "race_White = 0.0053485173163928396\n",
      "gender_Male = 0.014152043324653873\n",
      "native-country_Canada = 0.000530927630917373\n",
      "native-country_China = 0.00023481274506000326\n",
      "native-country_Columbia = 7.695188193539939e-05\n",
      "native-country_Cuba = 0.00031918089535477997\n",
      "native-country_Dominican-Republic = 4.668857072832361e-05\n",
      "native-country_Ecuador = 0.0\n",
      "native-country_El-Salvador = 0.00031716856287769156\n",
      "native-country_England = 5.903822606443422e-05\n",
      "native-country_France = 6.280622812061099e-05\n",
      "native-country_Germany = 9.729275516290622e-05\n",
      "native-country_Greece = 0.0003448916073736155\n",
      "native-country_Guatemala = 6.0316625774039015e-05\n",
      "native-country_Haiti = 0.00015904225473212797\n",
      "native-country_Honduras = 0.00021425053255288282\n",
      "native-country_Hong = 0.0\n",
      "native-country_Hungary = 0.00016826616000183432\n",
      "native-country_India = 0.0005719046779969762\n",
      "native-country_Iran = 0.00020396070384326128\n",
      "native-country_Ireland = 0.00029310776222228526\n",
      "native-country_Italy = 5.846142483545092e-05\n",
      "native-country_Jamaica = 0.0001628026637766246\n",
      "native-country_Japan = 5.7971448680344144e-05\n",
      "native-country_Laos = 9.279480888314264e-07\n",
      "native-country_Mexico = 0.0002934483749037719\n",
      "native-country_Nicaragua = 0.0\n",
      "native-country_Outlying-US(Guam-USVI-etc) = 0.0\n",
      "native-country_Peru = 2.5658420426215598e-05\n",
      "native-country_Philippines = 0.0005390693287049035\n",
      "native-country_Poland = 0.0005790490987461371\n",
      "native-country_Portugal = 0.00016910270332236242\n",
      "native-country_Puerto-Rico = 0.0004398485177693486\n",
      "native-country_Scotland = 8.234131675538547e-05\n",
      "native-country_South = 0.0002778589214166371\n",
      "native-country_Taiwan = 4.463662365840645e-05\n",
      "native-country_Thailand = 0.00019890285900086945\n",
      "native-country_Trinadad&Tobago = 0.0\n",
      "native-country_United-States = 0.004578491869181689\n",
      "native-country_Vietnam = 7.009734620449532e-05\n",
      "native-country_Yugoslavia = 0.0\n",
      "age_squared = 0.0480645991962109\n",
      "fnlwgt_squared = 0.04937052712951738\n",
      "educational-num_squared = 0.03773156319481014\n",
      "capital-gain_squared = 0.049750290541005646\n",
      "capital-loss_squared = 0.015400438474768399\n",
      "hours-per-week_squared = 0.02158476652677184\n",
      "age_sqrt = 0.0443594266422992\n",
      "fnlwgt_sqrt = 0.04503141359408804\n",
      "educational-num_sqrt = 0.019432227801008693\n",
      "capital-gain_sqrt = 0.020211230261946465\n",
      "capital-loss_sqrt = 0.00975257654347587\n",
      "hours-per-week_sqrt = 0.022620256664463177\n",
      "age_ln = 0.04752618800030754\n",
      "fnlwgt_ln = 0.04735298191941052\n",
      "educational-num_ln = 0.030735428468315545\n",
      "capital-gain_ln = 0.012058867766693876\n",
      "capital-loss_ln = 0.00403431408132514\n",
      "hours-per-week_ln = 0.02522971416869544\n"
     ]
    }
   ],
   "source": [
    "for name, importance in zip(newdata2.columns, rnd_clf.feature_importances_):\n",
    "    print(name, \"=\", importance)"
   ]
  },
  {
   "cell_type": "code",
   "execution_count": 41,
   "metadata": {},
   "outputs": [
    {
     "data": {
      "image/png": "[encoded data removed]",
      "text/plain": [
       "<Figure size 720x540 with 1 Axes>"
      ]
     },
     "metadata": {
      "needs_background": "light"
     },
     "output_type": "display_data"
    }
   ],
   "source": [
    "features = newdata2.columns\n",
    "importances = rnd_clf.feature_importances_\n",
    "indices = np.argsort(importances)[85:]\n",
    "plt.title('Feature Importances')\n",
    "plt.barh(range(len(indices)), importances[indices], color='b', align='center')\n",
    "plt.yticks(range(len(indices)), [features[i] for i in indices])\n",
    "plt.xlabel('Relative Importance')\n",
    "plt.show()"
   ]
  },
  {
   "cell_type": "code",
   "execution_count": 42,
   "metadata": {},
   "outputs": [],
   "source": [
    "from sklearn.model_selection import RandomizedSearchCV"
   ]
  },
  {
   "cell_type": "code",
   "execution_count": 43,
   "metadata": {},
   "outputs": [
    {
     "name": "stdout",
     "output_type": "stream",
     "text": [
      "{'n_estimators': [200], 'max_features': ['auto'], 'max_depth': [5, 20, None], 'min_samples_split': [2], 'min_samples_leaf': [2], 'bootstrap': [True, False]}\n"
     ]
    }
   ],
   "source": [
    "n_estimators = [int(x) for x in np.linspace(start = 200, stop = 2000, num = 1)] ## Number of trees in random forest\n",
    "max_features = ['auto']## Number of features to consider at every split\n",
    "max_depth = [int(x) for x in np.linspace(5, 20, num = 2)] ## Maximum number of levels in tree\n",
    "max_depth.append(None)\n",
    "min_samples_split = [2] ## Minimum number of samples required to split a node\n",
    "min_samples_leaf = [2]## Minimum number of samples required at each leaf node\n",
    "bootstrap = [True, False] ## Method of selecting samples for training each tree\n",
    "# Create the random grid\n",
    "random_grid = {'n_estimators': n_estimators,\n",
    "               'max_features': max_features,\n",
    "               'max_depth': max_depth,\n",
    "               'min_samples_split': min_samples_split,\n",
    "               'min_samples_leaf': min_samples_leaf,\n",
    "               'bootstrap': bootstrap}\n",
    "print(random_grid)"
   ]
  },
  {
   "cell_type": "code",
   "execution_count": 44,
   "metadata": {},
   "outputs": [],
   "source": [
    "rf_random = RandomizedSearchCV(estimator = RandomForestClassifier(), param_distributions = random_grid,\n",
    "                               n_iter = 100, cv = 2, verbose=2, random_state=42, n_jobs = -1)"
   ]
  },
  {
   "cell_type": "code",
   "execution_count": 45,
   "metadata": {},
   "outputs": [
    {
     "name": "stderr",
     "output_type": "stream",
     "text": [
      "C:\\Users\\gaura\\AppData\\Local\\Continuum\\anaconda3\\lib\\site-packages\\sklearn\\model_selection\\_search.py:281: UserWarning: The total space of parameters 6 is smaller than n_iter=100. Running 6 iterations. For exhaustive searches, use GridSearchCV.\n",
      "  % (grid_size, self.n_iter, grid_size), UserWarning)\n",
      "[Parallel(n_jobs=-1)]: Using backend LokyBackend with 4 concurrent workers.\n"
     ]
    },
    {
     "name": "stdout",
     "output_type": "stream",
     "text": [
      "Fitting 2 folds for each of 6 candidates, totalling 12 fits\n"
     ]
    },
    {
     "name": "stderr",
     "output_type": "stream",
     "text": [
      "[Parallel(n_jobs=-1)]: Done  12 out of  12 | elapsed:   16.8s remaining:    0.0s\n",
      "[Parallel(n_jobs=-1)]: Done  12 out of  12 | elapsed:   16.8s finished\n"
     ]
    },
    {
     "data": {
      "text/plain": [
       "RandomizedSearchCV(cv=2, error_score=nan,\n",
       "                   estimator=RandomForestClassifier(bootstrap=True,\n",
       "                                                    ccp_alpha=0.0,\n",
       "                                                    class_weight=None,\n",
       "                                                    criterion='gini',\n",
       "                                                    max_depth=None,\n",
       "                                                    max_features='auto',\n",
       "                                                    max_leaf_nodes=None,\n",
       "                                                    max_samples=None,\n",
       "                                                    min_impurity_decrease=0.0,\n",
       "                                                    min_impurity_split=None,\n",
       "                                                    min_samples_leaf=1,\n",
       "                                                    min_samples_split=2,\n",
       "                                                    min_weight_fraction_leaf=0.0,\n",
       "                                                    n_estimators=100,\n",
       "                                                    n_jobs...\n",
       "                                                    oob_score=False,\n",
       "                                                    random_state=None,\n",
       "                                                    verbose=0,\n",
       "                                                    warm_start=False),\n",
       "                   iid='deprecated', n_iter=100, n_jobs=-1,\n",
       "                   param_distributions={'bootstrap': [True, False],\n",
       "                                        'max_depth': [5, 20, None],\n",
       "                                        'max_features': ['auto'],\n",
       "                                        'min_samples_leaf': [2],\n",
       "                                        'min_samples_split': [2],\n",
       "                                        'n_estimators': [200]},\n",
       "                   pre_dispatch='2*n_jobs', random_state=42, refit=True,\n",
       "                   return_train_score=False, scoring=None, verbose=2)"
      ]
     },
     "execution_count": 45,
     "metadata": {},
     "output_type": "execute_result"
    }
   ],
   "source": [
    "rf_random.fit(X_train, y_train)"
   ]
  },
  {
   "cell_type": "code",
   "execution_count": 46,
   "metadata": {},
   "outputs": [
    {
     "data": {
      "text/plain": [
       "{'n_estimators': 200,\n",
       " 'min_samples_split': 2,\n",
       " 'min_samples_leaf': 2,\n",
       " 'max_features': 'auto',\n",
       " 'max_depth': 20,\n",
       " 'bootstrap': True}"
      ]
     },
     "execution_count": 46,
     "metadata": {},
     "output_type": "execute_result"
    }
   ],
   "source": [
    "rf_random.best_params_"
   ]
  },
  {
   "cell_type": "code",
   "execution_count": 47,
   "metadata": {},
   "outputs": [
    {
     "name": "stdout",
     "output_type": "stream",
     "text": [
      "Accuracy Score : 0.8542372881355932\n",
      "Precision Score : 0.7754137115839244\n",
      "Recall Score : 0.5290322580645161\n",
      "F1 Score : 0.6289549376797698\n"
     ]
    }
   ],
   "source": [
    "y_pred= rf_random.predict(X_test)\n",
    "from sklearn.metrics import accuracy_score,recall_score,precision_score,f1_score\n",
    "print('Accuracy Score : ' + str(accuracy_score(y_test,y_pred)))\n",
    "print('Precision Score : ' + str(precision_score(y_test,y_pred)))\n",
    "print('Recall Score : ' + str(recall_score(y_test,y_pred)))\n",
    "print('F1 Score : ' + str(f1_score(y_test,y_pred)))"
   ]
  },
  {
   "cell_type": "code",
   "execution_count": 49,
   "metadata": {},
   "outputs": [],
   "source": [
    "rnd_clf = RandomForestClassifier(n_estimators = 200,min_samples_split= 2,min_samples_leaf= 2,max_features='auto',max_depth= 20,\n",
    " bootstrap= True)"
   ]
  },
  {
   "cell_type": "code",
   "execution_count": 50,
   "metadata": {},
   "outputs": [
    {
     "data": {
      "text/plain": [
       "RandomForestClassifier(bootstrap=True, ccp_alpha=0.0, class_weight=None,\n",
       "                       criterion='gini', max_depth=20, max_features='auto',\n",
       "                       max_leaf_nodes=None, max_samples=None,\n",
       "                       min_impurity_decrease=0.0, min_impurity_split=None,\n",
       "                       min_samples_leaf=2, min_samples_split=2,\n",
       "                       min_weight_fraction_leaf=0.0, n_estimators=200,\n",
       "                       n_jobs=None, oob_score=False, random_state=None,\n",
       "                       verbose=0, warm_start=False)"
      ]
     },
     "execution_count": 50,
     "metadata": {},
     "output_type": "execute_result"
    }
   ],
   "source": [
    "rnd_clf.fit(X_train,y_train)"
   ]
  },
  {
   "cell_type": "code",
   "execution_count": 51,
   "metadata": {},
   "outputs": [
    {
     "data": {
      "text/plain": [
       "array([4.22521710e-02, 3.27251021e-02, 3.47746117e-02, 4.05169977e-02,\n",
       "       1.14002457e-02, 2.56963143e-02, 3.18249523e-03, 0.00000000e+00,\n",
       "       5.91808825e-03, 3.22998883e-03, 5.28784977e-03, 2.16420236e-03,\n",
       "       0.00000000e+00, 3.33161259e-03, 1.04332783e-03, 3.31045210e-03,\n",
       "       7.18133776e-03, 5.18268916e-03, 4.91714475e-02, 2.60482186e-02,\n",
       "       2.01116212e-03, 0.00000000e+00, 3.09770038e-03, 1.73430976e-02,\n",
       "       1.58438429e-03, 9.35824485e-04, 2.03639494e-03, 4.87454016e-03,\n",
       "       4.55654222e-05, 5.08339898e-03, 1.19859351e-03, 3.53498641e-03,\n",
       "       1.12004181e-03, 1.98952418e-03, 2.93697897e-02, 9.60566239e-04,\n",
       "       9.79206727e-03, 1.06238913e-02, 1.03729951e-02, 1.21610678e-03,\n",
       "       2.33140095e-03, 1.13864828e-04, 3.22690007e-03, 1.60820694e-02,\n",
       "       6.68194616e-05, 6.34047064e-05, 0.00000000e+00, 1.22891157e-04,\n",
       "       2.98210069e-05, 5.00992178e-06, 4.61090810e-05, 3.75395976e-05,\n",
       "       0.00000000e+00, 3.36898776e-06, 8.56835732e-05, 6.09849763e-08,\n",
       "       1.71894101e-05, 0.00000000e+00, 0.00000000e+00, 2.87666131e-05,\n",
       "       9.68831766e-05, 2.32291651e-05, 2.16995651e-06, 1.51351607e-04,\n",
       "       2.64413678e-05, 2.17286617e-05, 0.00000000e+00, 1.38990654e-04,\n",
       "       0.00000000e+00, 0.00000000e+00, 0.00000000e+00, 2.93070288e-04,\n",
       "       1.08426154e-05, 4.96553774e-05, 4.73674608e-05, 0.00000000e+00,\n",
       "       3.24584593e-05, 0.00000000e+00, 1.96997815e-05, 0.00000000e+00,\n",
       "       2.22542247e-03, 0.00000000e+00, 0.00000000e+00, 4.09870385e-02,\n",
       "       3.30064228e-02, 3.82767569e-02, 3.98535358e-02, 1.34097725e-02,\n",
       "       2.23980422e-02, 4.23736271e-02, 3.25575937e-02, 2.98937097e-02,\n",
       "       4.57436326e-02, 1.17284954e-02, 2.27094779e-02, 4.81145379e-02,\n",
       "       3.31573098e-02, 3.47870948e-02, 4.23103557e-02, 1.11018509e-02,\n",
       "       2.25827518e-02])"
      ]
     },
     "execution_count": 51,
     "metadata": {},
     "output_type": "execute_result"
    }
   ],
   "source": [
    "rnd_clf.feature_importances_"
   ]
  },
  {
   "cell_type": "code",
   "execution_count": 52,
   "metadata": {},
   "outputs": [],
   "source": [
    "from sklearn.model_selection import GridSearchCV\n",
    "# Create the parameter grid based on the results of random search \n",
    "param_grid = {'bootstrap': [True],'max_depth': [18,10],'max_features': [2, 3],\n",
    "    'min_samples_leaf': [3, 4],'min_samples_split': [8, 10],'n_estimators': [500]}\n",
    "# Instantiate the grid search model\n",
    "grid_search = GridSearchCV(estimator = RandomForestClassifier(), param_grid = param_grid, cv = 2, n_jobs = -1, verbose = 2)"
   ]
  },
  {
   "cell_type": "code",
   "execution_count": 53,
   "metadata": {},
   "outputs": [
    {
     "name": "stdout",
     "output_type": "stream",
     "text": [
      "Fitting 2 folds for each of 16 candidates, totalling 32 fits\n"
     ]
    },
    {
     "name": "stderr",
     "output_type": "stream",
     "text": [
      "[Parallel(n_jobs=-1)]: Using backend LokyBackend with 4 concurrent workers.\n",
      "[Parallel(n_jobs=-1)]: Done  32 out of  32 | elapsed:   34.4s finished\n"
     ]
    },
    {
     "data": {
      "text/plain": [
       "{'bootstrap': True,\n",
       " 'max_depth': 18,\n",
       " 'max_features': 3,\n",
       " 'min_samples_leaf': 3,\n",
       " 'min_samples_split': 10,\n",
       " 'n_estimators': 500}"
      ]
     },
     "execution_count": 53,
     "metadata": {},
     "output_type": "execute_result"
    }
   ],
   "source": [
    "grid_search.fit(X_train, y_train)\n",
    "grid_search.best_params_"
   ]
  },
  {
   "cell_type": "code",
   "execution_count": 54,
   "metadata": {},
   "outputs": [
    {
     "name": "stdout",
     "output_type": "stream",
     "text": [
      "Accuracy Score : 0.8463276836158192\n",
      "Precision Score : 0.8680555555555556\n",
      "Recall Score : 0.4032258064516129\n",
      "F1 Score : 0.5506607929515419\n"
     ]
    }
   ],
   "source": [
    "y_pred= grid_search.predict(X_test)\n",
    "from sklearn.metrics import accuracy_score,recall_score,precision_score,f1_score\n",
    "print('Accuracy Score : ' + str(accuracy_score(y_test,y_pred)))\n",
    "print('Precision Score : ' + str(precision_score(y_test,y_pred)))\n",
    "print('Recall Score : ' + str(recall_score(y_test,y_pred)))\n",
    "print('F1 Score : ' + str(f1_score(y_test,y_pred)))"
   ]
  },
  {
   "cell_type": "code",
   "execution_count": null,
   "metadata": {},
   "outputs": [],
   "source": [
    "ss"
   ]
  },
  {
   "cell_type": "markdown",
   "metadata": {},
   "source": [
    "ADA BOOST AND GRADIENT BOOST"
   ]
  },
  {
   "cell_type": "code",
   "execution_count": 36,
   "metadata": {},
   "outputs": [
    {
     "name": "stdout",
     "output_type": "stream",
     "text": [
      "Accuracy Score : 0.8598870056497175\n",
      "Precision Score : 0.753061224489796\n",
      "Recall Score : 0.5951612903225807\n",
      "F1 Score : 0.664864864864865\n"
     ]
    }
   ],
   "source": [
    "from sklearn.ensemble import AdaBoostClassifier,GradientBoostingClassifier\n",
    "clf = AdaBoostClassifier(n_estimators=100)\n",
    "clf.fit(X_train, y_train)\n",
    "y_pred= clf.predict(X_test)\n",
    "from sklearn.metrics import accuracy_score,recall_score,precision_score,f1_score\n",
    "print('Accuracy Score : ' + str(accuracy_score(y_test,y_pred)))\n",
    "print('Precision Score : ' + str(precision_score(y_test,y_pred)))\n",
    "print('Recall Score : ' + str(recall_score(y_test,y_pred)))\n",
    "print('F1 Score : ' + str(f1_score(y_test,y_pred)))"
   ]
  },
  {
   "cell_type": "code",
   "execution_count": 37,
   "metadata": {},
   "outputs": [
    {
     "name": "stdout",
     "output_type": "stream",
     "text": [
      "Accuracy Score : 0.8647834274952919\n",
      "Precision Score : 0.7986270022883295\n",
      "Recall Score : 0.5629032258064516\n",
      "F1 Score : 0.6603595080416274\n"
     ]
    }
   ],
   "source": [
    "from sklearn.ensemble import AdaBoostClassifier,GradientBoostingClassifier\n",
    "clf = GradientBoostingClassifier(n_estimators=100)\n",
    "clf.fit(X_train, y_train)\n",
    "y_pred= clf.predict(X_test)\n",
    "from sklearn.metrics import accuracy_score,recall_score,precision_score,f1_score\n",
    "print('Accuracy Score : ' + str(accuracy_score(y_test,y_pred)))\n",
    "print('Precision Score : ' + str(precision_score(y_test,y_pred)))\n",
    "print('Recall Score : ' + str(recall_score(y_test,y_pred)))\n",
    "print('F1 Score : ' + str(f1_score(y_test,y_pred)))"
   ]
  },
  {
   "cell_type": "code",
   "execution_count": 38,
   "metadata": {},
   "outputs": [
    {
     "name": "stdout",
     "output_type": "stream",
     "text": [
      "5e-05\n",
      "Accuracy Score : 0.7664783427495292\n",
      "Recall Score : 0.0\n",
      "0.05\n",
      "Accuracy Score : 0.8595103578154426\n",
      "Recall Score : 0.5338709677419354\n",
      "0.075\n",
      "Accuracy Score : 0.8629001883239171\n",
      "Recall Score : 0.5564516129032258\n",
      "0.1\n",
      "Accuracy Score : 0.8625235404896422\n",
      "Recall Score : 0.5564516129032258\n",
      "0.25\n",
      "Accuracy Score : 0.8595103578154426\n",
      "Recall Score : 0.5935483870967742\n",
      "0.5\n",
      "Accuracy Score : 0.8429378531073446\n",
      "Recall Score : 0.567741935483871\n",
      "0.75\n",
      "Accuracy Score : 0.8369114877589454\n",
      "Recall Score : 0.5725806451612904\n",
      "1\n",
      "Accuracy Score : 0.8354048964218456\n",
      "Recall Score : 0.6016129032258064\n",
      "2\n",
      "Accuracy Score : 0.43653483992467046\n",
      "Recall Score : 0.6306451612903226\n",
      "5\n",
      "Accuracy Score : 0.4726930320150659\n",
      "Recall Score : 0.5290322580645161\n",
      "10\n",
      "Accuracy Score : 0.6775894538606403\n",
      "Recall Score : 0.3596774193548387\n"
     ]
    }
   ],
   "source": [
    "lr_list = [0.00005,0.05, 0.075, 0.1, 0.25, 0.5, 0.75, 1,2,5,10]\n",
    "for learning_rate in lr_list:\n",
    "    gb_clf = GradientBoostingClassifier(n_estimators=50, learning_rate=learning_rate, max_features=50, max_depth=6, random_state=0)\n",
    "    gb_clf.fit(X_train, y_train)\n",
    "    y_pred= gb_clf.predict(X_test)\n",
    "    print(learning_rate)\n",
    "    print('Accuracy Score : ' + str(accuracy_score(y_test,y_pred)))\n",
    "    print('Recall Score : ' + str(recall_score(y_test,y_pred)))"
   ]
  },
  {
   "cell_type": "code",
   "execution_count": 41,
   "metadata": {},
   "outputs": [
    {
     "name": "stdout",
     "output_type": "stream",
     "text": [
      "40\n",
      "Accuracy Score : 0.8308851224105461\n",
      "Recall Score : 0.5919354838709677\n",
      "50\n",
      "Accuracy Score : 0.8354048964218456\n",
      "Recall Score : 0.6016129032258064\n",
      "55\n",
      "Accuracy Score : 0.832015065913371\n",
      "Recall Score : 0.5967741935483871\n",
      "60\n",
      "Accuracy Score : 0.8297551789077213\n",
      "Recall Score : 0.5838709677419355\n",
      "45\n",
      "Accuracy Score : 0.8346516007532957\n",
      "Recall Score : 0.5951612903225807\n"
     ]
    }
   ],
   "source": [
    "n_es = [40,50,55,60,45]\n",
    "for i in n_es:\n",
    "    gb_clf = GradientBoostingClassifier(n_estimators=i, learning_rate=1, max_features=50, max_depth=6, random_state=0)\n",
    "    gb_clf.fit(X_train, y_train)\n",
    "    y_pred= gb_clf.predict(X_test)\n",
    "    print(i)\n",
    "    print('Accuracy Score : ' + str(accuracy_score(y_test,y_pred)))\n",
    "    print('Recall Score : ' + str(recall_score(y_test,y_pred)))"
   ]
  },
  {
   "cell_type": "code",
   "execution_count": 42,
   "metadata": {},
   "outputs": [
    {
     "name": "stdout",
     "output_type": "stream",
     "text": [
      "10\n",
      "Accuracy Score : 0.8229755178907722\n",
      "Recall Score : 0.5693548387096774\n",
      "30\n",
      "Accuracy Score : 0.8286252354048964\n",
      "Recall Score : 0.5629032258064516\n",
      "50\n",
      "Accuracy Score : 0.8354048964218456\n",
      "Recall Score : 0.6016129032258064\n",
      "100\n",
      "Accuracy Score : 0.839924670433145\n",
      "Recall Score : 0.5758064516129032\n",
      "auto\n",
      "Accuracy Score : 0.8335216572504708\n",
      "Recall Score : 0.5870967741935483\n",
      "sqrt\n",
      "Accuracy Score : 0.8229755178907722\n",
      "Recall Score : 0.5693548387096774\n"
     ]
    }
   ],
   "source": [
    "n_es = [10,30,50,100,'auto','sqrt']\n",
    "for i in n_es:\n",
    "    gb_clf = GradientBoostingClassifier(n_estimators=50, learning_rate=1, max_features=i, max_depth=6, random_state=0)\n",
    "    gb_clf.fit(X_train, y_train)\n",
    "    y_pred= gb_clf.predict(X_test)\n",
    "    print(i)\n",
    "    print('Accuracy Score : ' + str(accuracy_score(y_test,y_pred)))\n",
    "    print('Recall Score : ' + str(recall_score(y_test,y_pred)))"
   ]
  },
  {
   "cell_type": "code",
   "execution_count": 45,
   "metadata": {},
   "outputs": [
    {
     "name": "stdout",
     "output_type": "stream",
     "text": [
      "9\n",
      "Accuracy Score : 0.8380414312617702\n",
      "Recall Score : 0.6048387096774194\n"
     ]
    }
   ],
   "source": [
    "n_es = [5,6,7,8,9,10,15,20,25]\n",
    "for i in n_es:\n",
    "    gb_clf = GradientBoostingClassifier(n_estimators=50, learning_rate=1, max_features=50, max_depth=i, random_state=0)\n",
    "    gb_clf.fit(X_train, y_train)\n",
    "    y_pred= gb_clf.predict(X_test)\n",
    "    print(i)\n",
    "    print('Accuracy Score : ' + str(accuracy_score(y_test,y_pred)))\n",
    "    print('Recall Score : ' + str(recall_score(y_test,y_pred)))"
   ]
  },
  {
   "cell_type": "code",
   "execution_count": null,
   "metadata": {},
   "outputs": [],
   "source": []
  },
  {
   "cell_type": "code",
   "execution_count": 46,
   "metadata": {},
   "outputs": [
    {
     "name": "stdout",
     "output_type": "stream",
     "text": [
      "0.05\n",
      "Accuracy Score : 0.8052730696798494\n",
      "Recall Score : 0.17258064516129032\n",
      "0.075\n",
      "Accuracy Score : 0.8128060263653484\n",
      "Recall Score : 0.2064516129032258\n",
      "0.1\n",
      "Accuracy Score : 0.823728813559322\n",
      "Recall Score : 0.267741935483871\n",
      "0.25\n",
      "Accuracy Score : 0.8580037664783428\n",
      "Recall Score : 0.5225806451612903\n",
      "0.5\n",
      "Accuracy Score : 0.8602636534839925\n",
      "Recall Score : 0.5516129032258065\n",
      "0.75\n",
      "Accuracy Score : 0.8583804143126177\n",
      "Recall Score : 0.5838709677419355\n",
      "1\n",
      "Accuracy Score : 0.8598870056497175\n",
      "Recall Score : 0.5806451612903226\n",
      "2\n",
      "Accuracy Score : 0.5551789077212806\n",
      "Recall Score : 0.9483870967741935\n",
      "5\n",
      "Accuracy Score : 0.8033898305084746\n",
      "Recall Score : 0.18870967741935485\n"
     ]
    }
   ],
   "source": [
    "lr_list = [0.05, 0.075, 0.1, 0.25, 0.5, 0.75, 1,2,5]\n",
    "for learning_rate in lr_list:\n",
    "    gb_clf = AdaBoostClassifier(n_estimators=50, learning_rate=learning_rate)\n",
    "    gb_clf.fit(X_train, y_train)\n",
    "    y_pred= gb_clf.predict(X_test)\n",
    "    print(learning_rate)\n",
    "    print('Accuracy Score : ' + str(accuracy_score(y_test,y_pred)))\n",
    "    print('Recall Score : ' + str(recall_score(y_test,y_pred)))"
   ]
  },
  {
   "cell_type": "code",
   "execution_count": 47,
   "metadata": {},
   "outputs": [
    {
     "name": "stdout",
     "output_type": "stream",
     "text": [
      "10\n",
      "Accuracy Score : 0.8519774011299435\n",
      "Recall Score : 0.5612903225806452\n",
      "50\n",
      "Accuracy Score : 0.8583804143126177\n",
      "Recall Score : 0.5838709677419355\n",
      "70\n",
      "Accuracy Score : 0.8595103578154426\n",
      "Recall Score : 0.5693548387096774\n",
      "100\n",
      "Accuracy Score : 0.8598870056497175\n",
      "Recall Score : 0.5806451612903226\n",
      "200\n",
      "Accuracy Score : 0.8655367231638418\n",
      "Recall Score : 0.6016129032258064\n",
      "300\n",
      "Accuracy Score : 0.863653483992467\n",
      "Recall Score : 0.5983870967741935\n"
     ]
    }
   ],
   "source": [
    "lr_list = [10,50,70,100,200,300]\n",
    "for i in lr_list:\n",
    "    gb_clf = AdaBoostClassifier(n_estimators=i, learning_rate=.75)\n",
    "    gb_clf.fit(X_train, y_train)\n",
    "    y_pred= gb_clf.predict(X_test)\n",
    "    print(i)\n",
    "    print('Accuracy Score : ' + str(accuracy_score(y_test,y_pred)))\n",
    "    print('Recall Score : ' + str(recall_score(y_test,y_pred)))"
   ]
  },
  {
   "cell_type": "code",
   "execution_count": null,
   "metadata": {},
   "outputs": [],
   "source": [
    "Best Model till now is Adaboost with n_estimator =200, LR=.75"
   ]
  }
 ],
 "metadata": {
  "kernelspec": {
   "display_name": "Python 3",
   "language": "python",
   "name": "python3"
  },
  "language_info": {
   "codemirror_mode": {
    "name": "ipython",
    "version": 3
   },
   "file_extension": ".py",
   "mimetype": "text/x-python",
   "name": "python",
   "nbconvert_exporter": "python",
   "pygments_lexer": "ipython3",
   "version": "3.7.3"
  }
 },
 "nbformat": 4,
 "nbformat_minor": 2
}
