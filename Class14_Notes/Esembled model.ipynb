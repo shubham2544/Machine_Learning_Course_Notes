{
 "cells": [
  {
   "cell_type": "code",
   "execution_count": 1,
   "metadata": {},
   "outputs": [
    {
     "data": {
      "text/plain": [
       "<Figure size 720x540 with 0 Axes>"
      ]
     },
     "metadata": {},
     "output_type": "display_data"
    }
   ],
   "source": [
    "import pandas as pd\n",
    "import numpy as np\n",
    "import seaborn as sns\n",
    "import matplotlib.pyplot as plt\n",
    "%matplotlib inline\n",
    "plt.rcParams['figure.figsize'] = 10, 7.5\n",
    "plt.rcParams['axes.grid'] = True\n",
    "plt.gray()\n",
    "from sklearn.model_selection import train_test_split"
   ]
  },
  {
   "cell_type": "code",
   "execution_count": 2,
   "metadata": {},
   "outputs": [],
   "source": [
    "data = pd.read_csv(\"salary.csv\")"
   ]
  },
  {
   "cell_type": "code",
   "execution_count": 3,
   "metadata": {},
   "outputs": [
    {
     "data": {
      "text/plain": [
       "(8850, 15)"
      ]
     },
     "execution_count": 3,
     "metadata": {},
     "output_type": "execute_result"
    }
   ],
   "source": [
    "data.shape"
   ]
  },
  {
   "cell_type": "code",
   "execution_count": 4,
   "metadata": {},
   "outputs": [
    {
     "data": {
      "text/html": [
       "<div>\n",
       "<style scoped>\n",
       "    .dataframe tbody tr th:only-of-type {\n",
       "        vertical-align: middle;\n",
       "    }\n",
       "\n",
       "    .dataframe tbody tr th {\n",
       "        vertical-align: top;\n",
       "    }\n",
       "\n",
       "    .dataframe thead th {\n",
       "        text-align: right;\n",
       "    }\n",
       "</style>\n",
       "<table border=\"1\" class=\"dataframe\">\n",
       "  <thead>\n",
       "    <tr style=\"text-align: right;\">\n",
       "      <th></th>\n",
       "      <th>age</th>\n",
       "      <th>workclass</th>\n",
       "      <th>fnlwgt</th>\n",
       "      <th>education</th>\n",
       "      <th>educational-num</th>\n",
       "      <th>marital-status</th>\n",
       "      <th>occupation</th>\n",
       "      <th>relationship</th>\n",
       "      <th>race</th>\n",
       "      <th>gender</th>\n",
       "      <th>capital-gain</th>\n",
       "      <th>capital-loss</th>\n",
       "      <th>hours-per-week</th>\n",
       "      <th>native-country</th>\n",
       "      <th>income</th>\n",
       "    </tr>\n",
       "  </thead>\n",
       "  <tbody>\n",
       "    <tr>\n",
       "      <th>4826</th>\n",
       "      <td>35</td>\n",
       "      <td>Private</td>\n",
       "      <td>66304</td>\n",
       "      <td>10th</td>\n",
       "      <td>6</td>\n",
       "      <td>Married-civ-spouse</td>\n",
       "      <td>Machine-op-inspct</td>\n",
       "      <td>Husband</td>\n",
       "      <td>White</td>\n",
       "      <td>Male</td>\n",
       "      <td>0</td>\n",
       "      <td>0</td>\n",
       "      <td>45</td>\n",
       "      <td>United-States</td>\n",
       "      <td>&lt;=50K</td>\n",
       "    </tr>\n",
       "    <tr>\n",
       "      <th>8108</th>\n",
       "      <td>34</td>\n",
       "      <td>Private</td>\n",
       "      <td>209691</td>\n",
       "      <td>Some-college</td>\n",
       "      <td>10</td>\n",
       "      <td>Divorced</td>\n",
       "      <td>Transport-moving</td>\n",
       "      <td>Not-in-family</td>\n",
       "      <td>White</td>\n",
       "      <td>Male</td>\n",
       "      <td>0</td>\n",
       "      <td>0</td>\n",
       "      <td>66</td>\n",
       "      <td>United-States</td>\n",
       "      <td>&lt;=50K</td>\n",
       "    </tr>\n",
       "    <tr>\n",
       "      <th>6604</th>\n",
       "      <td>22</td>\n",
       "      <td>Local-gov</td>\n",
       "      <td>117789</td>\n",
       "      <td>Some-college</td>\n",
       "      <td>10</td>\n",
       "      <td>Never-married</td>\n",
       "      <td>Prof-specialty</td>\n",
       "      <td>Not-in-family</td>\n",
       "      <td>White</td>\n",
       "      <td>Female</td>\n",
       "      <td>0</td>\n",
       "      <td>0</td>\n",
       "      <td>20</td>\n",
       "      <td>United-States</td>\n",
       "      <td>&lt;=50K</td>\n",
       "    </tr>\n",
       "    <tr>\n",
       "      <th>492</th>\n",
       "      <td>33</td>\n",
       "      <td>Private</td>\n",
       "      <td>175856</td>\n",
       "      <td>11th</td>\n",
       "      <td>7</td>\n",
       "      <td>Married-civ-spouse</td>\n",
       "      <td>Sales</td>\n",
       "      <td>Husband</td>\n",
       "      <td>White</td>\n",
       "      <td>Male</td>\n",
       "      <td>0</td>\n",
       "      <td>0</td>\n",
       "      <td>60</td>\n",
       "      <td>United-States</td>\n",
       "      <td>&lt;=50K</td>\n",
       "    </tr>\n",
       "    <tr>\n",
       "      <th>8781</th>\n",
       "      <td>52</td>\n",
       "      <td>Private</td>\n",
       "      <td>231865</td>\n",
       "      <td>HS-grad</td>\n",
       "      <td>9</td>\n",
       "      <td>Married-civ-spouse</td>\n",
       "      <td>Adm-clerical</td>\n",
       "      <td>Husband</td>\n",
       "      <td>White</td>\n",
       "      <td>Male</td>\n",
       "      <td>0</td>\n",
       "      <td>0</td>\n",
       "      <td>46</td>\n",
       "      <td>United-States</td>\n",
       "      <td>&lt;=50K</td>\n",
       "    </tr>\n",
       "  </tbody>\n",
       "</table>\n",
       "</div>"
      ],
      "text/plain": [
       "      age  workclass  fnlwgt     education  educational-num  \\\n",
       "4826   35    Private   66304          10th                6   \n",
       "8108   34    Private  209691  Some-college               10   \n",
       "6604   22  Local-gov  117789  Some-college               10   \n",
       "492    33    Private  175856          11th                7   \n",
       "8781   52    Private  231865       HS-grad                9   \n",
       "\n",
       "          marital-status         occupation   relationship   race  gender  \\\n",
       "4826  Married-civ-spouse  Machine-op-inspct        Husband  White    Male   \n",
       "8108            Divorced   Transport-moving  Not-in-family  White    Male   \n",
       "6604       Never-married     Prof-specialty  Not-in-family  White  Female   \n",
       "492   Married-civ-spouse              Sales        Husband  White    Male   \n",
       "8781  Married-civ-spouse       Adm-clerical        Husband  White    Male   \n",
       "\n",
       "      capital-gain  capital-loss  hours-per-week native-country income  \n",
       "4826             0             0              45  United-States  <=50K  \n",
       "8108             0             0              66  United-States  <=50K  \n",
       "6604             0             0              20  United-States  <=50K  \n",
       "492              0             0              60  United-States  <=50K  \n",
       "8781             0             0              46  United-States  <=50K  "
      ]
     },
     "execution_count": 4,
     "metadata": {},
     "output_type": "execute_result"
    }
   ],
   "source": [
    "data.sample(5)"
   ]
  },
  {
   "cell_type": "code",
   "execution_count": 5,
   "metadata": {},
   "outputs": [],
   "source": [
    "data['income'] = data['income'].replace({'<=50K':0,'>50K':1})"
   ]
  },
  {
   "cell_type": "code",
   "execution_count": 6,
   "metadata": {},
   "outputs": [
    {
     "data": {
      "text/plain": [
       "3"
      ]
     },
     "execution_count": 6,
     "metadata": {},
     "output_type": "execute_result"
    }
   ],
   "source": [
    "data.isnull().any().sum()"
   ]
  },
  {
   "cell_type": "code",
   "execution_count": 7,
   "metadata": {},
   "outputs": [
    {
     "data": {
      "text/plain": [
       "age                 int64\n",
       "workclass          object\n",
       "fnlwgt              int64\n",
       "education          object\n",
       "educational-num     int64\n",
       "marital-status     object\n",
       "occupation         object\n",
       "relationship       object\n",
       "race               object\n",
       "gender             object\n",
       "capital-gain        int64\n",
       "capital-loss        int64\n",
       "hours-per-week      int64\n",
       "native-country     object\n",
       "income              int64\n",
       "dtype: object"
      ]
     },
     "execution_count": 7,
     "metadata": {},
     "output_type": "execute_result"
    }
   ],
   "source": [
    "data.dtypes"
   ]
  },
  {
   "cell_type": "code",
   "execution_count": 8,
   "metadata": {},
   "outputs": [
    {
     "name": "stdout",
     "output_type": "stream",
     "text": [
      "['age', 'fnlwgt', 'educational-num', 'capital-gain', 'capital-loss', 'hours-per-week', 'income']\n",
      "['workclass', 'education', 'marital-status', 'occupation', 'relationship', 'race', 'gender', 'native-country']\n"
     ]
    }
   ],
   "source": [
    "# Encoding Categorical Features\n",
    "numeric_var_names=[key for key in dict(data.dtypes) if dict(data.dtypes)[key] in ['float64', 'int64', 'float32', 'int32']]\n",
    "cat_var_names=[key for key in dict(data.dtypes) if dict(data.dtypes)[key] in ['object']]\n",
    "print (numeric_var_names)\n",
    "print (cat_var_names)"
   ]
  },
  {
   "cell_type": "code",
   "execution_count": 9,
   "metadata": {},
   "outputs": [
    {
     "data": {
      "text/html": [
       "<div>\n",
       "<style scoped>\n",
       "    .dataframe tbody tr th:only-of-type {\n",
       "        vertical-align: middle;\n",
       "    }\n",
       "\n",
       "    .dataframe tbody tr th {\n",
       "        vertical-align: top;\n",
       "    }\n",
       "\n",
       "    .dataframe thead th {\n",
       "        text-align: right;\n",
       "    }\n",
       "</style>\n",
       "<table border=\"1\" class=\"dataframe\">\n",
       "  <thead>\n",
       "    <tr style=\"text-align: right;\">\n",
       "      <th></th>\n",
       "      <th>age</th>\n",
       "      <th>fnlwgt</th>\n",
       "      <th>educational-num</th>\n",
       "      <th>capital-gain</th>\n",
       "      <th>capital-loss</th>\n",
       "      <th>hours-per-week</th>\n",
       "      <th>income</th>\n",
       "    </tr>\n",
       "  </thead>\n",
       "  <tbody>\n",
       "    <tr>\n",
       "      <th>0</th>\n",
       "      <td>25</td>\n",
       "      <td>226802</td>\n",
       "      <td>7</td>\n",
       "      <td>0</td>\n",
       "      <td>0</td>\n",
       "      <td>40</td>\n",
       "      <td>0</td>\n",
       "    </tr>\n",
       "    <tr>\n",
       "      <th>1</th>\n",
       "      <td>38</td>\n",
       "      <td>89814</td>\n",
       "      <td>9</td>\n",
       "      <td>0</td>\n",
       "      <td>0</td>\n",
       "      <td>50</td>\n",
       "      <td>0</td>\n",
       "    </tr>\n",
       "    <tr>\n",
       "      <th>2</th>\n",
       "      <td>28</td>\n",
       "      <td>336951</td>\n",
       "      <td>12</td>\n",
       "      <td>0</td>\n",
       "      <td>0</td>\n",
       "      <td>40</td>\n",
       "      <td>1</td>\n",
       "    </tr>\n",
       "    <tr>\n",
       "      <th>3</th>\n",
       "      <td>44</td>\n",
       "      <td>160323</td>\n",
       "      <td>10</td>\n",
       "      <td>7688</td>\n",
       "      <td>0</td>\n",
       "      <td>40</td>\n",
       "      <td>1</td>\n",
       "    </tr>\n",
       "    <tr>\n",
       "      <th>4</th>\n",
       "      <td>18</td>\n",
       "      <td>103497</td>\n",
       "      <td>10</td>\n",
       "      <td>0</td>\n",
       "      <td>0</td>\n",
       "      <td>30</td>\n",
       "      <td>0</td>\n",
       "    </tr>\n",
       "  </tbody>\n",
       "</table>\n",
       "</div>"
      ],
      "text/plain": [
       "   age  fnlwgt  educational-num  capital-gain  capital-loss  hours-per-week  \\\n",
       "0   25  226802                7             0             0              40   \n",
       "1   38   89814                9             0             0              50   \n",
       "2   28  336951               12             0             0              40   \n",
       "3   44  160323               10          7688             0              40   \n",
       "4   18  103497               10             0             0              30   \n",
       "\n",
       "   income  \n",
       "0       0  \n",
       "1       0  \n",
       "2       1  \n",
       "3       1  \n",
       "4       0  "
      ]
     },
     "execution_count": 9,
     "metadata": {},
     "output_type": "execute_result"
    }
   ],
   "source": [
    "data_num=data[numeric_var_names]\n",
    "data_num.head(5)"
   ]
  },
  {
   "cell_type": "code",
   "execution_count": 10,
   "metadata": {},
   "outputs": [
    {
     "data": {
      "text/html": [
       "<div>\n",
       "<style scoped>\n",
       "    .dataframe tbody tr th:only-of-type {\n",
       "        vertical-align: middle;\n",
       "    }\n",
       "\n",
       "    .dataframe tbody tr th {\n",
       "        vertical-align: top;\n",
       "    }\n",
       "\n",
       "    .dataframe thead th {\n",
       "        text-align: right;\n",
       "    }\n",
       "</style>\n",
       "<table border=\"1\" class=\"dataframe\">\n",
       "  <thead>\n",
       "    <tr style=\"text-align: right;\">\n",
       "      <th></th>\n",
       "      <th>workclass</th>\n",
       "      <th>education</th>\n",
       "      <th>marital-status</th>\n",
       "      <th>occupation</th>\n",
       "      <th>relationship</th>\n",
       "      <th>race</th>\n",
       "      <th>gender</th>\n",
       "      <th>native-country</th>\n",
       "    </tr>\n",
       "  </thead>\n",
       "  <tbody>\n",
       "    <tr>\n",
       "      <th>0</th>\n",
       "      <td>Private</td>\n",
       "      <td>11th</td>\n",
       "      <td>Never-married</td>\n",
       "      <td>Machine-op-inspct</td>\n",
       "      <td>Own-child</td>\n",
       "      <td>Black</td>\n",
       "      <td>Male</td>\n",
       "      <td>United-States</td>\n",
       "    </tr>\n",
       "    <tr>\n",
       "      <th>1</th>\n",
       "      <td>Private</td>\n",
       "      <td>HS-grad</td>\n",
       "      <td>Married-civ-spouse</td>\n",
       "      <td>Farming-fishing</td>\n",
       "      <td>Husband</td>\n",
       "      <td>White</td>\n",
       "      <td>Male</td>\n",
       "      <td>United-States</td>\n",
       "    </tr>\n",
       "    <tr>\n",
       "      <th>2</th>\n",
       "      <td>Local-gov</td>\n",
       "      <td>Assoc-acdm</td>\n",
       "      <td>Married-civ-spouse</td>\n",
       "      <td>Protective-serv</td>\n",
       "      <td>Husband</td>\n",
       "      <td>White</td>\n",
       "      <td>Male</td>\n",
       "      <td>United-States</td>\n",
       "    </tr>\n",
       "    <tr>\n",
       "      <th>3</th>\n",
       "      <td>Private</td>\n",
       "      <td>Some-college</td>\n",
       "      <td>Married-civ-spouse</td>\n",
       "      <td>Machine-op-inspct</td>\n",
       "      <td>Husband</td>\n",
       "      <td>Black</td>\n",
       "      <td>Male</td>\n",
       "      <td>United-States</td>\n",
       "    </tr>\n",
       "    <tr>\n",
       "      <th>4</th>\n",
       "      <td>NaN</td>\n",
       "      <td>Some-college</td>\n",
       "      <td>Never-married</td>\n",
       "      <td>NaN</td>\n",
       "      <td>Own-child</td>\n",
       "      <td>White</td>\n",
       "      <td>Female</td>\n",
       "      <td>United-States</td>\n",
       "    </tr>\n",
       "  </tbody>\n",
       "</table>\n",
       "</div>"
      ],
      "text/plain": [
       "   workclass     education      marital-status         occupation  \\\n",
       "0    Private          11th       Never-married  Machine-op-inspct   \n",
       "1    Private       HS-grad  Married-civ-spouse    Farming-fishing   \n",
       "2  Local-gov    Assoc-acdm  Married-civ-spouse    Protective-serv   \n",
       "3    Private  Some-college  Married-civ-spouse  Machine-op-inspct   \n",
       "4        NaN  Some-college       Never-married                NaN   \n",
       "\n",
       "  relationship   race  gender native-country  \n",
       "0    Own-child  Black    Male  United-States  \n",
       "1      Husband  White    Male  United-States  \n",
       "2      Husband  White    Male  United-States  \n",
       "3      Husband  Black    Male  United-States  \n",
       "4    Own-child  White  Female  United-States  "
      ]
     },
     "execution_count": 10,
     "metadata": {},
     "output_type": "execute_result"
    }
   ],
   "source": [
    "my_df = data[cat_var_names]\n",
    "my_df.head(5)"
   ]
  },
  {
   "cell_type": "code",
   "execution_count": 13,
   "metadata": {},
   "outputs": [
    {
     "data": {
      "text/plain": [
       "6"
      ]
     },
     "execution_count": 13,
     "metadata": {},
     "output_type": "execute_result"
    }
   ],
   "source": [
    "len(my_df['education'].value_counts())"
   ]
  },
  {
   "cell_type": "code",
   "execution_count": 12,
   "metadata": {},
   "outputs": [
    {
     "name": "stderr",
     "output_type": "stream",
     "text": [
      "C:\\Users\\gaura\\AppData\\Local\\Continuum\\anaconda3\\lib\\site-packages\\pandas\\core\\generic.py:6586: SettingWithCopyWarning: \n",
      "A value is trying to be set on a copy of a slice from a DataFrame\n",
      "\n",
      "See the caveats in the documentation: http://pandas.pydata.org/pandas-docs/stable/indexing.html#indexing-view-versus-copy\n",
      "  self._update_inplace(new_data)\n"
     ]
    }
   ],
   "source": [
    "my_df['education'].replace('Preschool', 'dropout',inplace=True)\n",
    "my_df['education'].replace('10th', 'dropout',inplace=True)\n",
    "my_df['education'].replace('11th', 'dropout',inplace=True)\n",
    "my_df['education'].replace('12th', 'dropout',inplace=True)\n",
    "my_df['education'].replace('1st-4th', 'dropout',inplace=True)\n",
    "my_df['education'].replace('5th-6th', 'dropout',inplace=True)\n",
    "my_df['education'].replace('7th-8th', 'dropout',inplace=True)\n",
    "my_df['education'].replace('9th', 'dropout',inplace=True)\n",
    "my_df['education'].replace('HS-Grad', 'HighGrad',inplace=True)\n",
    "my_df['education'].replace('HS-grad', 'HighGrad',inplace=True)\n",
    "my_df['education'].replace('Some-college', 'CommunityCollege',inplace=True)\n",
    "my_df['education'].replace('Assoc-acdm', 'CommunityCollege',inplace=True)\n",
    "my_df['education'].replace('Assoc-voc', 'CommunityCollege',inplace=True)\n",
    "my_df['education'].replace('Bachelors', 'Bachelors',inplace=True)\n",
    "my_df['education'].replace('Masters', 'Masters',inplace=True)\n",
    "my_df['education'].replace('Prof-school', 'Masters',inplace=True)\n",
    "my_df['education'].replace('Doctorate', 'Doctorate',inplace=True)"
   ]
  },
  {
   "cell_type": "code",
   "execution_count": 14,
   "metadata": {},
   "outputs": [],
   "source": [
    "my_df['marital-status'].replace('Never-married', 'NotMarried',inplace=True)\n",
    "my_df['marital-status'].replace(['Married-AF-spouse'], 'Married',inplace=True)\n",
    "my_df['marital-status'].replace(['Married-civ-spouse'], 'Married',inplace=True)\n",
    "my_df['marital-status'].replace(['Married-spouse-absent'], 'NotMarried',inplace=True)\n",
    "my_df['marital-status'].replace(['Separated'], 'Separated',inplace=True)\n",
    "my_df['marital-status'].replace(['Divorced'], 'Separated',inplace=True)\n",
    "my_df['marital-status'].replace(['Widowed'], 'Widowed',inplace=True)"
   ]
  },
  {
   "cell_type": "code",
   "execution_count": 15,
   "metadata": {},
   "outputs": [
    {
     "data": {
      "text/plain": [
       "workclass         536\n",
       "education           0\n",
       "marital-status      0\n",
       "occupation        537\n",
       "relationship        0\n",
       "race                0\n",
       "gender              0\n",
       "native-country    143\n",
       "dtype: int64"
      ]
     },
     "execution_count": 15,
     "metadata": {},
     "output_type": "execute_result"
    }
   ],
   "source": [
    "my_df.isnull().sum()"
   ]
  },
  {
   "cell_type": "code",
   "execution_count": 16,
   "metadata": {},
   "outputs": [
    {
     "data": {
      "text/plain": [
       "'Private'"
      ]
     },
     "execution_count": 16,
     "metadata": {},
     "output_type": "execute_result"
    }
   ],
   "source": [
    "my_df['workclass'].mode().iloc[0]"
   ]
  },
  {
   "cell_type": "code",
   "execution_count": 17,
   "metadata": {},
   "outputs": [
    {
     "data": {
      "text/plain": [
       "Private             6047\n",
       "Self-emp-not-inc     721\n",
       "Local-gov            564\n",
       "State-gov            392\n",
       "Self-emp-inc         334\n",
       "Federal-gov          252\n",
       "Without-pay            3\n",
       "Never-worked           1\n",
       "Name: workclass, dtype: int64"
      ]
     },
     "execution_count": 17,
     "metadata": {},
     "output_type": "execute_result"
    }
   ],
   "source": [
    "my_df['workclass'].value_counts()"
   ]
  },
  {
   "cell_type": "code",
   "execution_count": 18,
   "metadata": {},
   "outputs": [
    {
     "name": "stderr",
     "output_type": "stream",
     "text": [
      "C:\\Users\\gaura\\AppData\\Local\\Continuum\\anaconda3\\lib\\site-packages\\ipykernel_launcher.py:2: SettingWithCopyWarning: \n",
      "A value is trying to be set on a copy of a slice from a DataFrame.\n",
      "Try using .loc[row_indexer,col_indexer] = value instead\n",
      "\n",
      "See the caveats in the documentation: http://pandas.pydata.org/pandas-docs/stable/indexing.html#indexing-view-versus-copy\n",
      "  \n"
     ]
    }
   ],
   "source": [
    "for i in my_df[['workclass', 'education', 'marital-status', 'occupation',  'relationship', 'race', 'gender', 'native-country']]:\n",
    "    my_df[i] = my_df[i].fillna((my_df[i].mode()).iloc[0])\n"
   ]
  },
  {
   "cell_type": "code",
   "execution_count": 19,
   "metadata": {},
   "outputs": [],
   "source": [
    "def var_summary(x):\n",
    "    return pd.Series([x.count(), x.isnull().sum(), x.sum(), x.mean(), x.median(),  x.std(), x.var(), x.min(), x.dropna().quantile(0.01), x.dropna().quantile(0.05),x.dropna().quantile(0.10),x.dropna().quantile(0.25),x.dropna().quantile(0.50),x.dropna().quantile(0.75), x.dropna().quantile(0.90),x.dropna().quantile(0.95), x.dropna().quantile(0.99),x.max()], \n",
    "                  index=['N', 'NMISS', 'SUM', 'MEAN','MEDIAN', 'STD', 'VAR', 'MIN', 'P1' , 'P5' ,'P10' ,'P25' ,'P50' ,'P75' ,'P90' ,'P95' ,'P99' ,'MAX'])\n",
    "\n",
    "num_summary=data_num.apply(lambda x: var_summary(x)).T"
   ]
  },
  {
   "cell_type": "code",
   "execution_count": 20,
   "metadata": {},
   "outputs": [
    {
     "name": "stderr",
     "output_type": "stream",
     "text": [
      "C:\\Users\\gaura\\AppData\\Local\\Continuum\\anaconda3\\lib\\site-packages\\ipykernel_launcher.py:2: FutureWarning: clip_upper(threshold) is deprecated, use clip(upper=threshold) instead\n",
      "  \n",
      "C:\\Users\\gaura\\AppData\\Local\\Continuum\\anaconda3\\lib\\site-packages\\ipykernel_launcher.py:3: FutureWarning: clip_lower(threshold) is deprecated, use clip(lower=threshold) instead\n",
      "  This is separate from the ipykernel package so we can avoid doing imports until\n"
     ]
    }
   ],
   "source": [
    "def outlier_capping(x):\n",
    "    x = x.clip_upper(x.quantile(0.98))\n",
    "    x = x.clip_lower(x.quantile(0.02))\n",
    "    return x\n",
    "\n",
    "data_num=data_num.apply(lambda x: outlier_capping(x))"
   ]
  },
  {
   "cell_type": "code",
   "execution_count": 21,
   "metadata": {},
   "outputs": [
    {
     "data": {
      "text/html": [
       "<div>\n",
       "<style scoped>\n",
       "    .dataframe tbody tr th:only-of-type {\n",
       "        vertical-align: middle;\n",
       "    }\n",
       "\n",
       "    .dataframe tbody tr th {\n",
       "        vertical-align: top;\n",
       "    }\n",
       "\n",
       "    .dataframe thead th {\n",
       "        text-align: right;\n",
       "    }\n",
       "</style>\n",
       "<table border=\"1\" class=\"dataframe\">\n",
       "  <thead>\n",
       "    <tr style=\"text-align: right;\">\n",
       "      <th></th>\n",
       "      <th>N</th>\n",
       "      <th>NMISS</th>\n",
       "      <th>SUM</th>\n",
       "      <th>MEAN</th>\n",
       "      <th>MEDIAN</th>\n",
       "      <th>STD</th>\n",
       "      <th>VAR</th>\n",
       "      <th>MIN</th>\n",
       "      <th>P1</th>\n",
       "      <th>P5</th>\n",
       "      <th>P10</th>\n",
       "      <th>P25</th>\n",
       "      <th>P50</th>\n",
       "      <th>P75</th>\n",
       "      <th>P90</th>\n",
       "      <th>P95</th>\n",
       "      <th>P99</th>\n",
       "      <th>MAX</th>\n",
       "    </tr>\n",
       "  </thead>\n",
       "  <tbody>\n",
       "    <tr>\n",
       "      <th>age</th>\n",
       "      <td>8850.0</td>\n",
       "      <td>0.0</td>\n",
       "      <td>3.415390e+05</td>\n",
       "      <td>38.591977</td>\n",
       "      <td>37.0</td>\n",
       "      <td>13.475767</td>\n",
       "      <td>1.815963e+02</td>\n",
       "      <td>18.0</td>\n",
       "      <td>18.0</td>\n",
       "      <td>20.00</td>\n",
       "      <td>22.0</td>\n",
       "      <td>28.00</td>\n",
       "      <td>37.0</td>\n",
       "      <td>48.0</td>\n",
       "      <td>58.0</td>\n",
       "      <td>64.00</td>\n",
       "      <td>70.0</td>\n",
       "      <td>70.0</td>\n",
       "    </tr>\n",
       "    <tr>\n",
       "      <th>fnlwgt</th>\n",
       "      <td>8850.0</td>\n",
       "      <td>0.0</td>\n",
       "      <td>1.648332e+09</td>\n",
       "      <td>186252.152339</td>\n",
       "      <td>178007.0</td>\n",
       "      <td>96680.380126</td>\n",
       "      <td>9.347096e+09</td>\n",
       "      <td>30795.6</td>\n",
       "      <td>30795.6</td>\n",
       "      <td>39810.55</td>\n",
       "      <td>63102.6</td>\n",
       "      <td>115590.75</td>\n",
       "      <td>178007.0</td>\n",
       "      <td>237546.0</td>\n",
       "      <td>323829.4</td>\n",
       "      <td>376223.35</td>\n",
       "      <td>446899.0</td>\n",
       "      <td>446899.0</td>\n",
       "    </tr>\n",
       "    <tr>\n",
       "      <th>educational-num</th>\n",
       "      <td>8850.0</td>\n",
       "      <td>0.0</td>\n",
       "      <td>8.922600e+04</td>\n",
       "      <td>10.082034</td>\n",
       "      <td>10.0</td>\n",
       "      <td>2.470814</td>\n",
       "      <td>6.104921e+00</td>\n",
       "      <td>4.0</td>\n",
       "      <td>4.0</td>\n",
       "      <td>5.00</td>\n",
       "      <td>7.0</td>\n",
       "      <td>9.00</td>\n",
       "      <td>10.0</td>\n",
       "      <td>12.0</td>\n",
       "      <td>13.0</td>\n",
       "      <td>14.00</td>\n",
       "      <td>15.0</td>\n",
       "      <td>15.0</td>\n",
       "    </tr>\n",
       "    <tr>\n",
       "      <th>capital-gain</th>\n",
       "      <td>8850.0</td>\n",
       "      <td>0.0</td>\n",
       "      <td>5.172765e+06</td>\n",
       "      <td>584.493220</td>\n",
       "      <td>0.0</td>\n",
       "      <td>2300.668997</td>\n",
       "      <td>5.293078e+06</td>\n",
       "      <td>0.0</td>\n",
       "      <td>0.0</td>\n",
       "      <td>0.00</td>\n",
       "      <td>0.0</td>\n",
       "      <td>0.00</td>\n",
       "      <td>0.0</td>\n",
       "      <td>0.0</td>\n",
       "      <td>0.0</td>\n",
       "      <td>4931.00</td>\n",
       "      <td>13550.0</td>\n",
       "      <td>13550.0</td>\n",
       "    </tr>\n",
       "    <tr>\n",
       "      <th>capital-loss</th>\n",
       "      <td>8850.0</td>\n",
       "      <td>0.0</td>\n",
       "      <td>7.372040e+05</td>\n",
       "      <td>83.299887</td>\n",
       "      <td>0.0</td>\n",
       "      <td>379.077537</td>\n",
       "      <td>1.436998e+05</td>\n",
       "      <td>0.0</td>\n",
       "      <td>0.0</td>\n",
       "      <td>0.00</td>\n",
       "      <td>0.0</td>\n",
       "      <td>0.00</td>\n",
       "      <td>0.0</td>\n",
       "      <td>0.0</td>\n",
       "      <td>0.0</td>\n",
       "      <td>0.00</td>\n",
       "      <td>1902.0</td>\n",
       "      <td>1902.0</td>\n",
       "    </tr>\n",
       "    <tr>\n",
       "      <th>hours-per-week</th>\n",
       "      <td>8850.0</td>\n",
       "      <td>0.0</td>\n",
       "      <td>3.567150e+05</td>\n",
       "      <td>40.306780</td>\n",
       "      <td>40.0</td>\n",
       "      <td>11.488693</td>\n",
       "      <td>1.319901e+02</td>\n",
       "      <td>10.0</td>\n",
       "      <td>10.0</td>\n",
       "      <td>18.00</td>\n",
       "      <td>24.9</td>\n",
       "      <td>40.00</td>\n",
       "      <td>40.0</td>\n",
       "      <td>45.0</td>\n",
       "      <td>55.0</td>\n",
       "      <td>60.00</td>\n",
       "      <td>70.0</td>\n",
       "      <td>70.0</td>\n",
       "    </tr>\n",
       "    <tr>\n",
       "      <th>income</th>\n",
       "      <td>8850.0</td>\n",
       "      <td>0.0</td>\n",
       "      <td>2.067000e+03</td>\n",
       "      <td>0.233559</td>\n",
       "      <td>0.0</td>\n",
       "      <td>0.423119</td>\n",
       "      <td>1.790296e-01</td>\n",
       "      <td>0.0</td>\n",
       "      <td>0.0</td>\n",
       "      <td>0.00</td>\n",
       "      <td>0.0</td>\n",
       "      <td>0.00</td>\n",
       "      <td>0.0</td>\n",
       "      <td>0.0</td>\n",
       "      <td>1.0</td>\n",
       "      <td>1.00</td>\n",
       "      <td>1.0</td>\n",
       "      <td>1.0</td>\n",
       "    </tr>\n",
       "  </tbody>\n",
       "</table>\n",
       "</div>"
      ],
      "text/plain": [
       "                      N  NMISS           SUM           MEAN    MEDIAN  \\\n",
       "age              8850.0    0.0  3.415390e+05      38.591977      37.0   \n",
       "fnlwgt           8850.0    0.0  1.648332e+09  186252.152339  178007.0   \n",
       "educational-num  8850.0    0.0  8.922600e+04      10.082034      10.0   \n",
       "capital-gain     8850.0    0.0  5.172765e+06     584.493220       0.0   \n",
       "capital-loss     8850.0    0.0  7.372040e+05      83.299887       0.0   \n",
       "hours-per-week   8850.0    0.0  3.567150e+05      40.306780      40.0   \n",
       "income           8850.0    0.0  2.067000e+03       0.233559       0.0   \n",
       "\n",
       "                          STD           VAR      MIN       P1        P5  \\\n",
       "age                 13.475767  1.815963e+02     18.0     18.0     20.00   \n",
       "fnlwgt           96680.380126  9.347096e+09  30795.6  30795.6  39810.55   \n",
       "educational-num      2.470814  6.104921e+00      4.0      4.0      5.00   \n",
       "capital-gain      2300.668997  5.293078e+06      0.0      0.0      0.00   \n",
       "capital-loss       379.077537  1.436998e+05      0.0      0.0      0.00   \n",
       "hours-per-week      11.488693  1.319901e+02     10.0     10.0     18.00   \n",
       "income               0.423119  1.790296e-01      0.0      0.0      0.00   \n",
       "\n",
       "                     P10        P25       P50       P75       P90        P95  \\\n",
       "age                 22.0      28.00      37.0      48.0      58.0      64.00   \n",
       "fnlwgt           63102.6  115590.75  178007.0  237546.0  323829.4  376223.35   \n",
       "educational-num      7.0       9.00      10.0      12.0      13.0      14.00   \n",
       "capital-gain         0.0       0.00       0.0       0.0       0.0    4931.00   \n",
       "capital-loss         0.0       0.00       0.0       0.0       0.0       0.00   \n",
       "hours-per-week      24.9      40.00      40.0      45.0      55.0      60.00   \n",
       "income               0.0       0.00       0.0       0.0       1.0       1.00   \n",
       "\n",
       "                      P99       MAX  \n",
       "age                  70.0      70.0  \n",
       "fnlwgt           446899.0  446899.0  \n",
       "educational-num      15.0      15.0  \n",
       "capital-gain      13550.0   13550.0  \n",
       "capital-loss       1902.0    1902.0  \n",
       "hours-per-week       70.0      70.0  \n",
       "income                1.0       1.0  "
      ]
     },
     "execution_count": 21,
     "metadata": {},
     "output_type": "execute_result"
    }
   ],
   "source": [
    "num_summary=data_num.apply(lambda x: var_summary(x)).T\n",
    "num_summary"
   ]
  },
  {
   "cell_type": "code",
   "execution_count": 22,
   "metadata": {},
   "outputs": [],
   "source": [
    "#Handling missings - Method2\n",
    "def Missing_imputation(x):\n",
    "    x = x.fillna(x.mean())\n",
    "    return x\n",
    "\n",
    "num_summary=num_summary.apply(lambda x: Missing_imputation(x))"
   ]
  },
  {
   "cell_type": "code",
   "execution_count": 23,
   "metadata": {},
   "outputs": [],
   "source": [
    "newdata = pd.concat([my_df,data_num],axis=1)"
   ]
  },
  {
   "cell_type": "code",
   "execution_count": 24,
   "metadata": {},
   "outputs": [
    {
     "data": {
      "text/plain": [
       "(8850, 15)"
      ]
     },
     "execution_count": 24,
     "metadata": {},
     "output_type": "execute_result"
    }
   ],
   "source": [
    "newdata.shape"
   ]
  },
  {
   "cell_type": "code",
   "execution_count": 25,
   "metadata": {},
   "outputs": [],
   "source": [
    "# An utility function to create dummy variable\n",
    "def create_dummies( df, colname ):\n",
    "    col_dummies = pd.get_dummies(df[colname], prefix=colname)\n",
    "    col_dummies.drop(col_dummies.columns[0], axis=1, inplace=True)\n",
    "    df = pd.concat([df, col_dummies], axis=1)\n",
    "    df.drop( colname, axis = 1, inplace = True )\n",
    "    return df\n",
    "for c_feature in my_df.columns:\n",
    "    newdata = create_dummies( newdata, c_feature )"
   ]
  },
  {
   "cell_type": "code",
   "execution_count": 32,
   "metadata": {},
   "outputs": [
    {
     "data": {
      "text/plain": [
       "(8850, 84)"
      ]
     },
     "execution_count": 32,
     "metadata": {},
     "output_type": "execute_result"
    }
   ],
   "source": [
    "newdata.shape"
   ]
  },
  {
   "cell_type": "code",
   "execution_count": 26,
   "metadata": {},
   "outputs": [
    {
     "data": {
      "text/html": [
       "<div>\n",
       "<style scoped>\n",
       "    .dataframe tbody tr th:only-of-type {\n",
       "        vertical-align: middle;\n",
       "    }\n",
       "\n",
       "    .dataframe tbody tr th {\n",
       "        vertical-align: top;\n",
       "    }\n",
       "\n",
       "    .dataframe thead th {\n",
       "        text-align: right;\n",
       "    }\n",
       "</style>\n",
       "<table border=\"1\" class=\"dataframe\">\n",
       "  <thead>\n",
       "    <tr style=\"text-align: right;\">\n",
       "      <th></th>\n",
       "      <th>age_squared</th>\n",
       "      <th>fnlwgt_squared</th>\n",
       "      <th>educational-num_squared</th>\n",
       "      <th>capital-gain_squared</th>\n",
       "      <th>capital-loss_squared</th>\n",
       "      <th>hours-per-week_squared</th>\n",
       "      <th>age_sqrt</th>\n",
       "      <th>fnlwgt_sqrt</th>\n",
       "      <th>educational-num_sqrt</th>\n",
       "      <th>capital-gain_sqrt</th>\n",
       "      <th>capital-loss_sqrt</th>\n",
       "      <th>hours-per-week_sqrt</th>\n",
       "      <th>age_ln</th>\n",
       "      <th>fnlwgt_ln</th>\n",
       "      <th>educational-num_ln</th>\n",
       "      <th>capital-gain_ln</th>\n",
       "      <th>capital-loss_ln</th>\n",
       "      <th>hours-per-week_ln</th>\n",
       "    </tr>\n",
       "  </thead>\n",
       "  <tbody>\n",
       "    <tr>\n",
       "      <th>0</th>\n",
       "      <td>625</td>\n",
       "      <td>5.143915e+10</td>\n",
       "      <td>49</td>\n",
       "      <td>0</td>\n",
       "      <td>0</td>\n",
       "      <td>1600</td>\n",
       "      <td>5.000000</td>\n",
       "      <td>476.237336</td>\n",
       "      <td>2.645751</td>\n",
       "      <td>0.000000</td>\n",
       "      <td>0.0</td>\n",
       "      <td>6.324555</td>\n",
       "      <td>3.258097</td>\n",
       "      <td>12.331837</td>\n",
       "      <td>2.079442</td>\n",
       "      <td>0.000000</td>\n",
       "      <td>0.0</td>\n",
       "      <td>3.713572</td>\n",
       "    </tr>\n",
       "    <tr>\n",
       "      <th>1</th>\n",
       "      <td>1444</td>\n",
       "      <td>8.066555e+09</td>\n",
       "      <td>81</td>\n",
       "      <td>0</td>\n",
       "      <td>0</td>\n",
       "      <td>2500</td>\n",
       "      <td>6.164414</td>\n",
       "      <td>299.689840</td>\n",
       "      <td>3.000000</td>\n",
       "      <td>0.000000</td>\n",
       "      <td>0.0</td>\n",
       "      <td>7.071068</td>\n",
       "      <td>3.663562</td>\n",
       "      <td>11.405507</td>\n",
       "      <td>2.302585</td>\n",
       "      <td>0.000000</td>\n",
       "      <td>0.0</td>\n",
       "      <td>3.931826</td>\n",
       "    </tr>\n",
       "    <tr>\n",
       "      <th>2</th>\n",
       "      <td>784</td>\n",
       "      <td>1.135360e+11</td>\n",
       "      <td>144</td>\n",
       "      <td>0</td>\n",
       "      <td>0</td>\n",
       "      <td>1600</td>\n",
       "      <td>5.291503</td>\n",
       "      <td>580.474806</td>\n",
       "      <td>3.464102</td>\n",
       "      <td>0.000000</td>\n",
       "      <td>0.0</td>\n",
       "      <td>6.324555</td>\n",
       "      <td>3.367296</td>\n",
       "      <td>12.727696</td>\n",
       "      <td>2.564949</td>\n",
       "      <td>0.000000</td>\n",
       "      <td>0.0</td>\n",
       "      <td>3.713572</td>\n",
       "    </tr>\n",
       "    <tr>\n",
       "      <th>3</th>\n",
       "      <td>1936</td>\n",
       "      <td>2.570346e+10</td>\n",
       "      <td>100</td>\n",
       "      <td>59105344</td>\n",
       "      <td>0</td>\n",
       "      <td>1600</td>\n",
       "      <td>6.633250</td>\n",
       "      <td>400.403546</td>\n",
       "      <td>3.162278</td>\n",
       "      <td>87.681241</td>\n",
       "      <td>0.0</td>\n",
       "      <td>6.324555</td>\n",
       "      <td>3.806662</td>\n",
       "      <td>11.984952</td>\n",
       "      <td>2.397895</td>\n",
       "      <td>8.947546</td>\n",
       "      <td>0.0</td>\n",
       "      <td>3.713572</td>\n",
       "    </tr>\n",
       "    <tr>\n",
       "      <th>4</th>\n",
       "      <td>324</td>\n",
       "      <td>1.071163e+10</td>\n",
       "      <td>100</td>\n",
       "      <td>0</td>\n",
       "      <td>0</td>\n",
       "      <td>900</td>\n",
       "      <td>4.242641</td>\n",
       "      <td>321.709496</td>\n",
       "      <td>3.162278</td>\n",
       "      <td>0.000000</td>\n",
       "      <td>0.0</td>\n",
       "      <td>5.477226</td>\n",
       "      <td>2.944439</td>\n",
       "      <td>11.547308</td>\n",
       "      <td>2.397895</td>\n",
       "      <td>0.000000</td>\n",
       "      <td>0.0</td>\n",
       "      <td>3.433987</td>\n",
       "    </tr>\n",
       "  </tbody>\n",
       "</table>\n",
       "</div>"
      ],
      "text/plain": [
       "   age_squared  fnlwgt_squared  educational-num_squared  capital-gain_squared  \\\n",
       "0          625    5.143915e+10                       49                     0   \n",
       "1         1444    8.066555e+09                       81                     0   \n",
       "2          784    1.135360e+11                      144                     0   \n",
       "3         1936    2.570346e+10                      100              59105344   \n",
       "4          324    1.071163e+10                      100                     0   \n",
       "\n",
       "   capital-loss_squared  hours-per-week_squared  age_sqrt  fnlwgt_sqrt  \\\n",
       "0                     0                    1600  5.000000   476.237336   \n",
       "1                     0                    2500  6.164414   299.689840   \n",
       "2                     0                    1600  5.291503   580.474806   \n",
       "3                     0                    1600  6.633250   400.403546   \n",
       "4                     0                     900  4.242641   321.709496   \n",
       "\n",
       "   educational-num_sqrt  capital-gain_sqrt  capital-loss_sqrt  \\\n",
       "0              2.645751           0.000000                0.0   \n",
       "1              3.000000           0.000000                0.0   \n",
       "2              3.464102           0.000000                0.0   \n",
       "3              3.162278          87.681241                0.0   \n",
       "4              3.162278           0.000000                0.0   \n",
       "\n",
       "   hours-per-week_sqrt    age_ln  fnlwgt_ln  educational-num_ln  \\\n",
       "0             6.324555  3.258097  12.331837            2.079442   \n",
       "1             7.071068  3.663562  11.405507            2.302585   \n",
       "2             6.324555  3.367296  12.727696            2.564949   \n",
       "3             6.324555  3.806662  11.984952            2.397895   \n",
       "4             5.477226  2.944439  11.547308            2.397895   \n",
       "\n",
       "   capital-gain_ln  capital-loss_ln  hours-per-week_ln  \n",
       "0         0.000000              0.0           3.713572  \n",
       "1         0.000000              0.0           3.931826  \n",
       "2         0.000000              0.0           3.713572  \n",
       "3         8.947546              0.0           3.713572  \n",
       "4         0.000000              0.0           3.433987  "
      ]
     },
     "execution_count": 26,
     "metadata": {},
     "output_type": "execute_result"
    }
   ],
   "source": [
    "num_list=['age', 'fnlwgt', 'educational-num', 'capital-gain', 'capital-loss', 'hours-per-week']   \n",
    "hrdf_transform = newdata[num_list].copy()\n",
    "squared = (hrdf_transform**2).add_suffix(\"_squared\")\n",
    "square_root = (hrdf_transform**0.5).add_suffix(\"_sqrt\")\n",
    "natural_log = np.log(hrdf_transform+1).add_suffix(\"_ln\")\n",
    "hrdf_transform = pd.concat([hrdf_transform, squared, square_root, natural_log], axis=1)\n",
    "hrdf_transform.drop(['age', 'fnlwgt', 'educational-num', 'capital-gain', 'capital-loss', 'hours-per-week'], axis=1, inplace=True)\n",
    "hrdf_transform.head()"
   ]
  },
  {
   "cell_type": "code",
   "execution_count": 27,
   "metadata": {},
   "outputs": [],
   "source": [
    "newdata2= pd.concat([newdata,hrdf_transform],axis=1)"
   ]
  },
  {
   "cell_type": "code",
   "execution_count": 28,
   "metadata": {},
   "outputs": [
    {
     "data": {
      "text/plain": [
       "(8850, 102)"
      ]
     },
     "execution_count": 28,
     "metadata": {},
     "output_type": "execute_result"
    }
   ],
   "source": [
    "newdata2.shape"
   ]
  },
  {
   "cell_type": "code",
   "execution_count": 29,
   "metadata": {},
   "outputs": [],
   "source": [
    "y= newdata2['income']"
   ]
  },
  {
   "cell_type": "code",
   "execution_count": 30,
   "metadata": {},
   "outputs": [],
   "source": [
    "del newdata2['income']"
   ]
  },
  {
   "cell_type": "code",
   "execution_count": 31,
   "metadata": {},
   "outputs": [],
   "source": [
    "X_train, X_test, y_train, y_test = train_test_split(newdata2, y, test_size = 0.3, stratify=y, random_state = 100) "
   ]
  },
  {
   "cell_type": "code",
   "execution_count": 32,
   "metadata": {},
   "outputs": [],
   "source": [
    "from sklearn.ensemble import RandomForestClassifier"
   ]
  },
  {
   "cell_type": "code",
   "execution_count": 34,
   "metadata": {},
   "outputs": [],
   "source": [
    "rnd_clf = RandomForestClassifier()"
   ]
  },
  {
   "cell_type": "code",
   "execution_count": 36,
   "metadata": {},
   "outputs": [
    {
     "data": {
      "text/plain": [
       "RandomForestClassifier(bootstrap=True, ccp_alpha=0.0, class_weight=None,\n",
       "                       criterion='gini', max_depth=None, max_features='auto',\n",
       "                       max_leaf_nodes=None, max_samples=None,\n",
       "                       min_impurity_decrease=0.0, min_impurity_split=None,\n",
       "                       min_samples_leaf=1, min_samples_split=2,\n",
       "                       min_weight_fraction_leaf=0.0, n_estimators=100,\n",
       "                       n_jobs=None, oob_score=False, random_state=None,\n",
       "                       verbose=0, warm_start=False)"
      ]
     },
     "execution_count": 36,
     "metadata": {},
     "output_type": "execute_result"
    }
   ],
   "source": [
    "rnd_clf.fit(X_train, y_train)"
   ]
  },
  {
   "cell_type": "code",
   "execution_count": 37,
   "metadata": {},
   "outputs": [
    {
     "name": "stdout",
     "output_type": "stream",
     "text": [
      "Accuracy Score : 0.8519774011299435\n",
      "Precision Score : 0.7462039045553145\n",
      "Recall Score : 0.5548387096774193\n",
      "F1 Score : 0.6364477335800185\n"
     ]
    }
   ],
   "source": [
    "y_pred= rnd_clf.predict(X_test)\n",
    "from sklearn.metrics import accuracy_score,recall_score,precision_score,f1_score\n",
    "print('Accuracy Score : ' + str(accuracy_score(y_test,y_pred)))\n",
    "print('Precision Score : ' + str(precision_score(y_test,y_pred)))\n",
    "print('Recall Score : ' + str(recall_score(y_test,y_pred)))\n",
    "print('F1 Score : ' + str(f1_score(y_test,y_pred)))"
   ]
  },
  {
   "cell_type": "code",
   "execution_count": 38,
   "metadata": {},
   "outputs": [
    {
     "name": "stdout",
     "output_type": "stream",
     "text": [
      "Confusion Matrix : \n",
      "[[1918  117]\n",
      " [ 276  344]]\n"
     ]
    }
   ],
   "source": [
    "from sklearn.metrics import confusion_matrix\n",
    "print('Confusion Matrix : \\n' + str(confusion_matrix(y_test,y_pred)))"
   ]
  },
  {
   "cell_type": "code",
   "execution_count": 39,
   "metadata": {},
   "outputs": [
    {
     "data": {
      "text/plain": [
       "array([4.88808610e-02, 4.59950260e-02, 2.71981439e-02, 2.86476749e-02,\n",
       "       1.00549016e-02, 2.45121524e-02, 4.72595660e-03, 0.00000000e+00,\n",
       "       8.92567238e-03, 4.34928713e-03, 6.71365270e-03, 3.35290907e-03,\n",
       "       0.00000000e+00, 3.09846150e-03, 1.33194066e-03, 3.19767101e-03,\n",
       "       5.16975366e-03, 3.79267378e-03, 3.96348638e-02, 2.19437700e-02,\n",
       "       2.59209804e-03, 7.98222944e-05, 6.28121349e-03, 1.52695330e-02,\n",
       "       2.94148801e-03, 2.38895015e-03, 4.10151618e-03, 5.60942031e-03,\n",
       "       1.10347658e-04, 7.10844102e-03, 2.51689186e-03, 6.17181797e-03,\n",
       "       2.49516727e-03, 3.89856810e-03, 2.24017913e-02, 1.59356804e-03,\n",
       "       6.11326528e-03, 1.01406781e-02, 8.33358967e-03, 2.39427528e-03,\n",
       "       3.27546058e-03, 4.95237885e-04, 4.56605886e-03, 1.28912839e-02,\n",
       "       4.31292745e-04, 3.98139959e-04, 7.80975759e-05, 5.33435193e-04,\n",
       "       2.05164338e-04, 1.38615262e-04, 3.36035669e-04, 1.88654747e-04,\n",
       "       3.31752503e-05, 2.38676334e-04, 1.29730984e-04, 6.60859375e-05,\n",
       "       1.54064068e-04, 1.18712962e-04, 5.81519357e-07, 2.47775234e-04,\n",
       "       6.07163542e-04, 3.14028413e-04, 2.49938961e-04, 3.67652797e-04,\n",
       "       2.69878196e-04, 3.40239955e-05, 3.42968318e-05, 3.74434898e-04,\n",
       "       9.93353479e-06, 1.29504409e-05, 1.37511289e-04, 6.55350528e-04,\n",
       "       3.45016338e-04, 1.93090289e-04, 3.26470369e-04, 3.99663492e-05,\n",
       "       4.24742384e-04, 3.78292544e-05, 8.54853297e-05, 3.05890478e-05,\n",
       "       4.17782243e-03, 2.71433052e-05, 0.00000000e+00, 4.50226478e-02,\n",
       "       4.75619813e-02, 2.98337020e-02, 3.10790011e-02, 8.96729958e-03,\n",
       "       2.19497014e-02, 4.40317107e-02, 4.73495700e-02, 2.76764310e-02,\n",
       "       3.28719545e-02, 9.04206747e-03, 2.45034988e-02, 4.65763199e-02,\n",
       "       4.74374096e-02, 3.08114280e-02, 3.25702311e-02, 1.13918896e-02,\n",
       "       2.39737435e-02])"
      ]
     },
     "execution_count": 39,
     "metadata": {},
     "output_type": "execute_result"
    }
   ],
   "source": [
    "rnd_clf.feature_importances_"
   ]
  },
  {
   "cell_type": "code",
   "execution_count": 40,
   "metadata": {},
   "outputs": [
    {
     "name": "stdout",
     "output_type": "stream",
     "text": [
      "age = 0.04888086097863589\n",
      "fnlwgt = 0.04599502596140728\n",
      "educational-num = 0.02719814390200219\n",
      "capital-gain = 0.028647674911694055\n",
      "capital-loss = 0.010054901646591024\n",
      "hours-per-week = 0.0245121523932128\n",
      "workclass_Local-gov = 0.004725956604858778\n",
      "workclass_Never-worked = 0.0\n",
      "workclass_Private = 0.008925672384885846\n",
      "workclass_Self-emp-inc = 0.00434928712926968\n",
      "workclass_Self-emp-not-inc = 0.006713652703301861\n",
      "workclass_State-gov = 0.0033529090665477155\n",
      "workclass_Without-pay = 0.0\n",
      "education_CommunityCollege = 0.003098461496503494\n",
      "education_Doctorate = 0.0013319406593260193\n",
      "education_HighGrad = 0.003197671009557188\n",
      "education_Masters = 0.005169753663583745\n",
      "education_dropout = 0.0037926737818922422\n",
      "marital-status_NotMarried = 0.03963486378901512\n",
      "marital-status_Separated = 0.02194377002126619\n",
      "marital-status_Widowed = 0.0025920980424633546\n",
      "occupation_Armed-Forces = 7.982229444349818e-05\n",
      "occupation_Craft-repair = 0.006281213490975937\n",
      "occupation_Exec-managerial = 0.015269532973210133\n",
      "occupation_Farming-fishing = 0.0029414880057849874\n",
      "occupation_Handlers-cleaners = 0.0023889501511659013\n",
      "occupation_Machine-op-inspct = 0.004101516184667334\n",
      "occupation_Other-service = 0.005609420305639358\n",
      "occupation_Priv-house-serv = 0.00011034765820400698\n",
      "occupation_Prof-specialty = 0.007108441016801588\n",
      "occupation_Protective-serv = 0.0025168918618151776\n",
      "occupation_Sales = 0.006171817972223056\n",
      "occupation_Tech-support = 0.002495167273107064\n",
      "occupation_Transport-moving = 0.0038985681001721573\n",
      "relationship_Not-in-family = 0.022401791291542295\n",
      "relationship_Other-relative = 0.0015935680435371932\n",
      "relationship_Own-child = 0.006113265284193037\n",
      "relationship_Unmarried = 0.010140678057895109\n",
      "relationship_Wife = 0.00833358966991675\n",
      "race_Asian-Pac-Islander = 0.002394275282778265\n",
      "race_Black = 0.0032754605778171687\n",
      "race_Other = 0.0004952378847778544\n",
      "race_White = 0.004566058861050353\n",
      "gender_Male = 0.012891283932839582\n",
      "native-country_Canada = 0.00043129274461922425\n",
      "native-country_China = 0.00039813995933597675\n",
      "native-country_Columbia = 7.809757585312522e-05\n",
      "native-country_Cuba = 0.0005334351933926485\n",
      "native-country_Dominican-Republic = 0.00020516433814622104\n",
      "native-country_Ecuador = 0.00013861526170569555\n",
      "native-country_El-Salvador = 0.0003360356685289743\n",
      "native-country_England = 0.00018865474668413706\n",
      "native-country_France = 3.3175250315496914e-05\n",
      "native-country_Germany = 0.00023867633402901658\n",
      "native-country_Greece = 0.00012973098408763337\n",
      "native-country_Guatemala = 6.608593748950575e-05\n",
      "native-country_Haiti = 0.00015406406776353164\n",
      "native-country_Honduras = 0.00011871296160712806\n",
      "native-country_Hong = 5.815193571498054e-07\n",
      "native-country_Hungary = 0.0002477752340744789\n",
      "native-country_India = 0.0006071635421002125\n",
      "native-country_Iran = 0.00031402841308513126\n",
      "native-country_Ireland = 0.0002499389606710698\n",
      "native-country_Italy = 0.0003676527972956303\n",
      "native-country_Jamaica = 0.00026987819557000017\n",
      "native-country_Japan = 3.402399550370508e-05\n",
      "native-country_Laos = 3.42968317658423e-05\n",
      "native-country_Mexico = 0.0003744348982559153\n",
      "native-country_Nicaragua = 9.933534792278815e-06\n",
      "native-country_Outlying-US(Guam-USVI-etc) = 1.2950440902586218e-05\n",
      "native-country_Peru = 0.00013751128859687615\n",
      "native-country_Philippines = 0.0006553505279319093\n",
      "native-country_Poland = 0.00034501633757555184\n",
      "native-country_Portugal = 0.00019309028927745473\n",
      "native-country_Puerto-Rico = 0.00032647036940325726\n",
      "native-country_Scotland = 3.996634923526615e-05\n",
      "native-country_South = 0.00042474238384650404\n",
      "native-country_Taiwan = 3.782925444359302e-05\n",
      "native-country_Thailand = 8.548532969555437e-05\n",
      "native-country_Trinadad&Tobago = 3.058904780372663e-05\n",
      "native-country_United-States = 0.004177822434675383\n",
      "native-country_Vietnam = 2.7143305207398377e-05\n",
      "native-country_Yugoslavia = 0.0\n",
      "age_squared = 0.04502264781708729\n",
      "fnlwgt_squared = 0.04756198134969497\n",
      "educational-num_squared = 0.029833701955680133\n",
      "capital-gain_squared = 0.031079001068467997\n",
      "capital-loss_squared = 0.008967299580930465\n",
      "hours-per-week_squared = 0.021949701391332333\n",
      "age_sqrt = 0.04403171074302378\n",
      "fnlwgt_sqrt = 0.04734957000618363\n",
      "educational-num_sqrt = 0.0276764310173521\n",
      "capital-gain_sqrt = 0.03287195445725743\n",
      "capital-loss_sqrt = 0.009042067468087039\n",
      "hours-per-week_sqrt = 0.0245034988444504\n",
      "age_ln = 0.04657631990131636\n",
      "fnlwgt_ln = 0.04743740963005492\n",
      "educational-num_ln = 0.03081142797093135\n",
      "capital-gain_ln = 0.03257023108536674\n",
      "capital-loss_ln = 0.011391889567948786\n",
      "hours-per-week_ln = 0.023973743519637245\n"
     ]
    }
   ],
   "source": [
    "for name, importance in zip(newdata2.columns, rnd_clf.feature_importances_):\n",
    "    print(name, \"=\", importance)"
   ]
  },
  {
   "cell_type": "code",
   "execution_count": 42,
   "metadata": {},
   "outputs": [
    {
     "data": {
      "image/png": "[encoded data removed]",
      "text/plain": [
       "<Figure size 432x288 with 1 Axes>"
      ]
     },
     "metadata": {
      "needs_background": "light"
     },
     "output_type": "display_data"
    }
   ],
   "source": [
    "features = newdata2.columns\n",
    "importances = rnd_clf.feature_importances_\n",
    "indices = np.argsort(importances)[85:]#101-16=85\n",
    "plt.title('Feature Importances')\n",
    "plt.barh(range(len(indices)), importances[indices], color='b', align='center')\n",
    "plt.yticks(range(len(indices)), [features[i] for i in indices])\n",
    "plt.xlabel('Relative Importance')\n",
    "plt.show()"
   ]
  },
  {
   "cell_type": "code",
   "execution_count": 43,
   "metadata": {},
   "outputs": [],
   "source": [
    "from sklearn.model_selection import RandomizedSearchCV"
   ]
  },
  {
   "cell_type": "code",
   "execution_count": 44,
   "metadata": {},
   "outputs": [
    {
     "name": "stdout",
     "output_type": "stream",
     "text": [
      "{'n_estimators': [200, 1100, 2000], 'max_features': ['auto', 'sqrt'], 'max_depth': [10, 20], 'min_samples_split': [2], 'min_samples_leaf': [2], 'bootstrap': [True, False]}\n"
     ]
    }
   ],
   "source": [
    "n_estimators = [int(x) for x in np.linspace(start = 200, stop = 2000, num = 3)] ## Number of trees in random forest\n",
    "max_features = ['auto','sqrt']## Number of features to consider at every split\n",
    "max_depth = [int(x) for x in np.linspace(10, 20, num = 2)] ## Maximum number of levels in tree\n",
    "#max_depth.append(None)\n",
    "min_samples_split = [2] ## Minimum number of samples required to split a node\n",
    "min_samples_leaf = [2]## Minimum number of samples required at each leaf node\n",
    "bootstrap = [True, False] ## Method of selecting samples for training each tree\n",
    "# Create the random grid\n",
    "random_grid = {'n_estimators': n_estimators,\n",
    "               'max_features': max_features,\n",
    "               'max_depth': max_depth,\n",
    "               'min_samples_split': min_samples_split,\n",
    "               'min_samples_leaf': min_samples_leaf,\n",
    "               'bootstrap': bootstrap}\n",
    "print(random_grid)"
   ]
  },
  {
   "cell_type": "code",
   "execution_count": 45,
   "metadata": {},
   "outputs": [],
   "source": [
    "rf_random = RandomizedSearchCV(estimator = RandomForestClassifier(), param_distributions = random_grid,\n",
    "                               n_iter = 100, cv = 3, verbose=2, random_state=42, n_jobs = -1)"
   ]
  },
  {
   "cell_type": "code",
   "execution_count": 46,
   "metadata": {},
   "outputs": [
    {
     "name": "stderr",
     "output_type": "stream",
     "text": [
      "C:\\Users\\gaura\\AppData\\Local\\Continuum\\anaconda3\\lib\\site-packages\\sklearn\\model_selection\\_search.py:281: UserWarning: The total space of parameters 24 is smaller than n_iter=100. Running 24 iterations. For exhaustive searches, use GridSearchCV.\n",
      "  % (grid_size, self.n_iter, grid_size), UserWarning)\n",
      "[Parallel(n_jobs=-1)]: Using backend LokyBackend with 4 concurrent workers.\n"
     ]
    },
    {
     "name": "stdout",
     "output_type": "stream",
     "text": [
      "Fitting 3 folds for each of 24 candidates, totalling 72 fits\n"
     ]
    },
    {
     "name": "stderr",
     "output_type": "stream",
     "text": [
      "[Parallel(n_jobs=-1)]: Done  33 tasks      | elapsed:  2.7min\n",
      "[Parallel(n_jobs=-1)]: Done  72 out of  72 | elapsed:  6.4min finished\n"
     ]
    },
    {
     "data": {
      "text/plain": [
       "RandomizedSearchCV(cv=3, error_score=nan,\n",
       "                   estimator=RandomForestClassifier(bootstrap=True,\n",
       "                                                    ccp_alpha=0.0,\n",
       "                                                    class_weight=None,\n",
       "                                                    criterion='gini',\n",
       "                                                    max_depth=None,\n",
       "                                                    max_features='auto',\n",
       "                                                    max_leaf_nodes=None,\n",
       "                                                    max_samples=None,\n",
       "                                                    min_impurity_decrease=0.0,\n",
       "                                                    min_impurity_split=None,\n",
       "                                                    min_samples_leaf=1,\n",
       "                                                    min_samples_split=2,\n",
       "                                                    min_weight_fraction_leaf=0.0,\n",
       "                                                    n_estimators=100,\n",
       "                                                    n_jobs...\n",
       "                                                    random_state=None,\n",
       "                                                    verbose=0,\n",
       "                                                    warm_start=False),\n",
       "                   iid='deprecated', n_iter=100, n_jobs=-1,\n",
       "                   param_distributions={'bootstrap': [True, False],\n",
       "                                        'max_depth': [10, 20],\n",
       "                                        'max_features': ['auto', 'sqrt'],\n",
       "                                        'min_samples_leaf': [2],\n",
       "                                        'min_samples_split': [2],\n",
       "                                        'n_estimators': [200, 1100, 2000]},\n",
       "                   pre_dispatch='2*n_jobs', random_state=42, refit=True,\n",
       "                   return_train_score=False, scoring=None, verbose=2)"
      ]
     },
     "execution_count": 46,
     "metadata": {},
     "output_type": "execute_result"
    }
   ],
   "source": [
    "rf_random.fit(X_train, y_train)"
   ]
  },
  {
   "cell_type": "code",
   "execution_count": 47,
   "metadata": {},
   "outputs": [
    {
     "data": {
      "text/plain": [
       "{'n_estimators': 2000,\n",
       " 'min_samples_split': 2,\n",
       " 'min_samples_leaf': 2,\n",
       " 'max_features': 'auto',\n",
       " 'max_depth': 20,\n",
       " 'bootstrap': True}"
      ]
     },
     "execution_count": 47,
     "metadata": {},
     "output_type": "execute_result"
    }
   ],
   "source": [
    "rf_random.best_params_"
   ]
  },
  {
   "cell_type": "code",
   "execution_count": 48,
   "metadata": {},
   "outputs": [
    {
     "name": "stdout",
     "output_type": "stream",
     "text": [
      "Accuracy Score : 0.8538606403013183\n",
      "Precision Score : 0.7761904761904762\n",
      "Recall Score : 0.5258064516129032\n",
      "F1 Score : 0.6269230769230769\n"
     ]
    }
   ],
   "source": [
    "y_pred= rf_random.predict(X_test)\n",
    "from sklearn.metrics import accuracy_score,recall_score,precision_score,f1_score\n",
    "print('Accuracy Score : ' + str(accuracy_score(y_test,y_pred)))\n",
    "print('Precision Score : ' + str(precision_score(y_test,y_pred)))\n",
    "print('Recall Score : ' + str(recall_score(y_test,y_pred)))\n",
    "print('F1 Score : ' + str(f1_score(y_test,y_pred)))"
   ]
  },
  {
   "cell_type": "code",
   "execution_count": 49,
   "metadata": {},
   "outputs": [
    {
     "ename": "AttributeError",
     "evalue": "'RandomizedSearchCV' object has no attribute 'feature_importances_'",
     "output_type": "error",
     "traceback": [
      "\u001b[1;31m---------------------------------------------------------------------------\u001b[0m",
      "\u001b[1;31mAttributeError\u001b[0m                            Traceback (most recent call last)",
      "\u001b[1;32m<ipython-input-49-b836c0c2f5f3>\u001b[0m in \u001b[0;36m<module>\u001b[1;34m\u001b[0m\n\u001b[1;32m----> 1\u001b[1;33m \u001b[0mrf_random\u001b[0m\u001b[1;33m.\u001b[0m\u001b[0mfeature_importances_\u001b[0m\u001b[1;33m\u001b[0m\u001b[1;33m\u001b[0m\u001b[0m\n\u001b[0m",
      "\u001b[1;31mAttributeError\u001b[0m: 'RandomizedSearchCV' object has no attribute 'feature_importances_'"
     ]
    }
   ],
   "source": [
    "rf_random.feature_importances_"
   ]
  },
  {
   "cell_type": "code",
   "execution_count": 50,
   "metadata": {},
   "outputs": [],
   "source": [
    "rnd_clf = RandomForestClassifier(n_estimators = 2000,min_samples_split= 2,min_samples_leaf= 2,max_features='auto',max_depth= 20,\n",
    " bootstrap= True)"
   ]
  },
  {
   "cell_type": "code",
   "execution_count": 51,
   "metadata": {},
   "outputs": [
    {
     "data": {
      "text/plain": [
       "RandomForestClassifier(bootstrap=True, ccp_alpha=0.0, class_weight=None,\n",
       "                       criterion='gini', max_depth=20, max_features='auto',\n",
       "                       max_leaf_nodes=None, max_samples=None,\n",
       "                       min_impurity_decrease=0.0, min_impurity_split=None,\n",
       "                       min_samples_leaf=2, min_samples_split=2,\n",
       "                       min_weight_fraction_leaf=0.0, n_estimators=2000,\n",
       "                       n_jobs=None, oob_score=False, random_state=None,\n",
       "                       verbose=0, warm_start=False)"
      ]
     },
     "execution_count": 51,
     "metadata": {},
     "output_type": "execute_result"
    }
   ],
   "source": [
    "rnd_clf.fit(X_train,y_train)"
   ]
  },
  {
   "cell_type": "code",
   "execution_count": 52,
   "metadata": {},
   "outputs": [
    {
     "data": {
      "text/plain": [
       "array([4.25011374e-02, 3.27669284e-02, 3.72828280e-02, 3.97618828e-02,\n",
       "       1.17631942e-02, 2.30108415e-02, 3.23018652e-03, 0.00000000e+00,\n",
       "       6.06589329e-03, 2.98787299e-03, 5.30715198e-03, 2.15558108e-03,\n",
       "       0.00000000e+00, 3.30858633e-03, 1.42524088e-03, 2.89669850e-03,\n",
       "       6.42674009e-03, 5.01705997e-03, 5.23602058e-02, 2.73909134e-02,\n",
       "       2.34818612e-03, 2.36673188e-06, 3.22278097e-03, 1.68968449e-02,\n",
       "       1.67651038e-03, 9.07305764e-04, 2.13293479e-03, 5.13424206e-03,\n",
       "       3.17710655e-05, 5.55439837e-03, 1.27243518e-03, 3.60608631e-03,\n",
       "       1.12071853e-03, 2.09519389e-03, 2.98755117e-02, 9.15677369e-04,\n",
       "       8.43433152e-03, 1.11155840e-02, 9.10060021e-03, 1.19620438e-03,\n",
       "       2.20655403e-03, 1.73277375e-04, 3.33257865e-03, 1.51112801e-02,\n",
       "       8.12688351e-05, 5.11828716e-05, 3.15230480e-06, 8.47419103e-05,\n",
       "       2.68959345e-05, 4.28274334e-06, 1.03485774e-04, 2.69969013e-05,\n",
       "       1.77199603e-07, 7.88623022e-06, 6.07391255e-05, 3.14953269e-07,\n",
       "       5.78023902e-06, 0.00000000e+00, 0.00000000e+00, 4.54962224e-05,\n",
       "       1.70047280e-04, 2.99145084e-05, 2.59564159e-06, 1.08763175e-04,\n",
       "       3.12343577e-05, 1.63768139e-05, 0.00000000e+00, 1.64393708e-04,\n",
       "       1.38188832e-07, 0.00000000e+00, 0.00000000e+00, 2.58917437e-04,\n",
       "       1.89868102e-05, 2.48375129e-05, 3.15129494e-05, 0.00000000e+00,\n",
       "       3.13741297e-05, 1.14464381e-06, 2.03974427e-05, 0.00000000e+00,\n",
       "       2.46260503e-03, 1.04731841e-06, 0.00000000e+00, 4.23813481e-02,\n",
       "       3.27472823e-02, 3.57365139e-02, 4.35807585e-02, 1.21579607e-02,\n",
       "       2.27775201e-02, 4.32128818e-02, 3.26995257e-02, 3.39689448e-02,\n",
       "       4.05621346e-02, 1.17866162e-02, 2.32645326e-02, 4.34461521e-02,\n",
       "       3.28924150e-02, 3.40524603e-02, 4.22573228e-02, 1.17889694e-02,\n",
       "       2.36876553e-02])"
      ]
     },
     "execution_count": 52,
     "metadata": {},
     "output_type": "execute_result"
    }
   ],
   "source": [
    "rnd_clf.feature_importances_"
   ]
  },
  {
   "cell_type": "code",
   "execution_count": 53,
   "metadata": {},
   "outputs": [],
   "source": [
    "from sklearn.model_selection import GridSearchCV\n",
    "# Create the parameter grid based on the results of random search \n",
    "param_grid = {'bootstrap': [True],'max_depth': [18,10],'max_features': ['auto', 3],\n",
    "    'min_samples_leaf': [30, 40],'min_samples_split': [8, 10],'n_estimators': [200,500]}\n",
    "# Instantiate the grid search model\n",
    "grid_search = GridSearchCV(estimator = RandomForestClassifier(), param_grid = param_grid, cv = 2, n_jobs = -1, verbose = 2)"
   ]
  },
  {
   "cell_type": "code",
   "execution_count": 54,
   "metadata": {},
   "outputs": [
    {
     "name": "stdout",
     "output_type": "stream",
     "text": [
      "Fitting 2 folds for each of 32 candidates, totalling 64 fits\n"
     ]
    },
    {
     "name": "stderr",
     "output_type": "stream",
     "text": [
      "[Parallel(n_jobs=-1)]: Using backend LokyBackend with 4 concurrent workers.\n",
      "[Parallel(n_jobs=-1)]: Done  33 tasks      | elapsed:   25.2s\n",
      "[Parallel(n_jobs=-1)]: Done  64 out of  64 | elapsed:   47.4s finished\n"
     ]
    },
    {
     "data": {
      "text/plain": [
       "{'bootstrap': True,\n",
       " 'max_depth': 18,\n",
       " 'max_features': 'auto',\n",
       " 'min_samples_leaf': 30,\n",
       " 'min_samples_split': 8,\n",
       " 'n_estimators': 500}"
      ]
     },
     "execution_count": 54,
     "metadata": {},
     "output_type": "execute_result"
    }
   ],
   "source": [
    "grid_search.fit(X_train, y_train)\n",
    "grid_search.best_params_"
   ]
  },
  {
   "cell_type": "code",
   "execution_count": 56,
   "metadata": {},
   "outputs": [
    {
     "name": "stdout",
     "output_type": "stream",
     "text": [
      "Accuracy Score : 0.8549905838041432\n",
      "Precision Score : 0.8201634877384196\n",
      "Recall Score : 0.4854838709677419\n",
      "F1 Score : 0.6099290780141844\n"
     ]
    }
   ],
   "source": [
    "y_pred= grid_search.predict(X_test)\n",
    "from sklearn.metrics import accuracy_score,recall_score,precision_score,f1_score\n",
    "print('Accuracy Score : ' + str(accuracy_score(y_test,y_pred)))\n",
    "print('Precision Score : ' + str(precision_score(y_test,y_pred)))\n",
    "print('Recall Score : ' + str(recall_score(y_test,y_pred)))\n",
    "print('F1 Score : ' + str(f1_score(y_test,y_pred)))"
   ]
  },
  {
   "cell_type": "code",
   "execution_count": null,
   "metadata": {},
   "outputs": [],
   "source": []
  }
 ],
 "metadata": {
  "kernelspec": {
   "display_name": "Python 3",
   "language": "python",
   "name": "python3"
  },
  "language_info": {
   "codemirror_mode": {
    "name": "ipython",
    "version": 3
   },
   "file_extension": ".py",
   "mimetype": "text/x-python",
   "name": "python",
   "nbconvert_exporter": "python",
   "pygments_lexer": "ipython3",
   "version": "3.7.3"
  }
 },
 "nbformat": 4,
 "nbformat_minor": 2
}
